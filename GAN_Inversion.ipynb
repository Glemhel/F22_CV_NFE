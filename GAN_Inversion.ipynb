{
  "nbformat": 4,
  "nbformat_minor": 0,
  "metadata": {
    "colab": {
      "provenance": [],
      "collapsed_sections": []
    },
    "kernelspec": {
      "name": "python3",
      "display_name": "Python 3"
    },
    "language_info": {
      "name": "python"
    },
    "accelerator": "GPU"
  },
  "cells": [
    {
      "cell_type": "code",
      "source": [
        "!gdown https://drive.google.com/uc?id=1zgT5-UOa9oby2mViweBQTaYmhsfwvHje\n",
        "!gdown https://drive.google.com/uc?id=1vN-1XjxrA8FJMSLYSta8LjLSPshkKsbl"
      ],
      "metadata": {
        "colab": {
          "base_uri": "https://localhost:8080/"
        },
        "id": "Q3pr-tWARy6m",
        "outputId": "e26d0479-8678-450d-ba22-0915c3aba756"
      },
      "execution_count": 1,
      "outputs": [
        {
          "output_type": "stream",
          "name": "stdout",
          "text": [
            "Downloading...\n",
            "From: https://drive.google.com/uc?id=1zgT5-UOa9oby2mViweBQTaYmhsfwvHje\n",
            "To: /content/Generator_v2_150.pth\n",
            "100% 98.0M/98.0M [00:00<00:00, 292MB/s]\n",
            "Downloading...\n",
            "From: https://drive.google.com/uc?id=1vN-1XjxrA8FJMSLYSta8LjLSPshkKsbl\n",
            "To: /content/Encoder.pth\n",
            "100% 74.0M/74.0M [00:00<00:00, 223MB/s]\n"
          ]
        }
      ]
    },
    {
      "cell_type": "code",
      "source": [
        "!git clone https://github.com/Palandr1234/NFE.git"
      ],
      "metadata": {
        "colab": {
          "base_uri": "https://localhost:8080/"
        },
        "id": "0KpwbKI9SADZ",
        "outputId": "1277f549-3867-4bec-bcbe-64e23ce4ee1b"
      },
      "execution_count": 2,
      "outputs": [
        {
          "output_type": "stream",
          "name": "stdout",
          "text": [
            "Cloning into 'NFE'...\n",
            "remote: Enumerating objects: 181, done.\u001b[K\n",
            "remote: Total 181 (delta 0), reused 0 (delta 0), pack-reused 181\u001b[K\n",
            "Receiving objects: 100% (181/181), 26.74 MiB | 20.71 MiB/s, done.\n",
            "Resolving deltas: 100% (77/77), done.\n"
          ]
        }
      ]
    },
    {
      "cell_type": "code",
      "source": [
        "from NFE.StyleGAN import *"
      ],
      "metadata": {
        "id": "5R_zkbVcSp-I"
      },
      "execution_count": 3,
      "outputs": []
    },
    {
      "cell_type": "code",
      "source": [
        "import torch\n",
        "import torch.nn as nn\n",
        "import torch.optim as optim\n",
        "from torch.utils.data import Dataset, DataLoader\n",
        "import torchvision\n",
        "import torchvision.transforms as transforms\n",
        "from PIL import Image\n",
        "import glob\n",
        "import math\n",
        "\n",
        "import matplotlib.pyplot as plt\n",
        "\n",
        "device = torch.device(\"cuda:0\" if torch.cuda.is_available() else \"cpu\")"
      ],
      "metadata": {
        "id": "ndVW4fp0S8Gk"
      },
      "execution_count": 4,
      "outputs": []
    },
    {
      "cell_type": "code",
      "source": [
        "G = torch.load(\"Generator_v2_150.pth\", map_location=device)"
      ],
      "metadata": {
        "id": "BK1bCcZzS0ss"
      },
      "execution_count": 5,
      "outputs": []
    },
    {
      "cell_type": "code",
      "source": [
        "class ResBlock(nn.Module):\n",
        "    def __init__(self,in_channels, out_channels):\n",
        "        super().__init__()\n",
        "        self.conv = nn.Conv2d(in_channels, out_channels, 1)\n",
        "        self.act = nn.LeakyReLU(0.2)\n",
        "        self.conv1 = nn.Conv2d(in_channels, in_channels, 3, padding=1)\n",
        "        self.conv2 = nn.Conv2d(in_channels, out_channels, 3, padding=1)\n",
        "\n",
        "    def forward(self, x):\n",
        "        return self.act(self.conv(x))+self.act(self.conv2(self.act(self.conv1(x))))"
      ],
      "metadata": {
        "id": "RKzdQXx4yEFd"
      },
      "execution_count": 6,
      "outputs": []
    },
    {
      "cell_type": "code",
      "source": [
        "class Encoder(nn.Module):\n",
        "    def __init__(self, z_dim=512):\n",
        "        super().__init__()\n",
        "        self.conv = nn.Sequential(\n",
        "            nn.Conv2d(3, 64, 3, padding=1), \n",
        "            nn.LeakyReLU(0.2),\n",
        "            nn.AvgPool2d(2),\n",
        "            ResBlock(64, 128),\n",
        "            nn.AvgPool2d(2),\n",
        "            ResBlock(128, 256),\n",
        "            nn.AvgPool2d(2),\n",
        "            ResBlock(256, 512),\n",
        "            nn.AvgPool2d(2),\n",
        "            ResBlock(512, 1024),\n",
        "        )   \n",
        "        self.linear = nn.Linear(1024*4*4, 512)         \n",
        "  \n",
        "    def forward(self, x):\n",
        "        x = self.conv(x)\n",
        "        x = x.reshape(x.size(0), -1)\n",
        "        return self.linear(x)"
      ],
      "metadata": {
        "id": "Dj6w6sQVyHCS"
      },
      "execution_count": 7,
      "outputs": []
    },
    {
      "cell_type": "code",
      "source": [
        "E = torch.load(\"Encoder.pth\", map_location=device)"
      ],
      "metadata": {
        "id": "jNQbdcn8UfEO"
      },
      "execution_count": 8,
      "outputs": []
    },
    {
      "cell_type": "code",
      "source": [
        "transform=transforms.Compose([\n",
        "                               transforms.Resize((64, 64)),\n",
        "                               transforms.ToTensor(),\n",
        "                               transforms.Normalize((0.5, 0.5, 0.5), (0.5, 0.5, 0.5))\n",
        "])\n",
        "img = Image.open(\"kurapika.jpg\").convert(\"RGB\")\n",
        "img = transform(img).unsqueeze(0)"
      ],
      "metadata": {
        "id": "tgp9bElTz5za"
      },
      "execution_count": 9,
      "outputs": []
    },
    {
      "cell_type": "code",
      "source": [
        "plt.imshow(img[0].permute([1,2,0]).numpy())"
      ],
      "metadata": {
        "colab": {
          "base_uri": "https://localhost:8080/",
          "height": 303
        },
        "id": "oZRrFQWv0RZr",
        "outputId": "c1a25a47-5e71-416c-d266-b1961a24f731"
      },
      "execution_count": 10,
      "outputs": [
        {
          "output_type": "stream",
          "name": "stderr",
          "text": [
            "WARNING:matplotlib.image:Clipping input data to the valid range for imshow with RGB data ([0..1] for floats or [0..255] for integers).\n"
          ]
        },
        {
          "output_type": "execute_result",
          "data": {
            "text/plain": [
              "<matplotlib.image.AxesImage at 0x7fa4ee3c2690>"
            ]
          },
          "metadata": {},
          "execution_count": 10
        },
        {
          "output_type": "display_data",
          "data": {
            "text/plain": [
              "<Figure size 432x288 with 1 Axes>"
            ],
            "image/png": "[encoded data removed]"
          },
          "metadata": {
            "needs_background": "light"
          }
        }
      ]
    },
    {
      "cell_type": "code",
      "source": [
        "z_dim=512\n",
        "step = int(math.log(z_dim, 2)) -2\n",
        "img=img.to(device)"
      ],
      "metadata": {
        "id": "CchL2rfo1NFt"
      },
      "execution_count": 11,
      "outputs": []
    },
    {
      "cell_type": "code",
      "source": [
        "with torch.no_grad():\n",
        "  z = E(img.to(device))\n",
        "z=torch.clip(z, 0, 1)\n",
        "z.requires_grad_(True)\n",
        "z.retain_grad()\n",
        "lr = 1e-2\n",
        "optimizer = torch.optim.Adam([z], lr= lr)\n",
        "\n",
        "criterion = torch.nn.MSELoss(reduction=\"sum\")"
      ],
      "metadata": {
        "id": "UYRtB8xv5WtK"
      },
      "execution_count": 12,
      "outputs": []
    },
    {
      "cell_type": "code",
      "source": [
        "losses = []\n",
        "epochs=1000\n",
        "f = torchvision.transforms.functional.gaussian_blur\n",
        "for i in range(epochs):\n",
        "    optimizer.zero_grad()\n",
        "    \n",
        "    out = G(z, step=step)\n",
        "  \n",
        "    loss = criterion(f(out, 3, 11.0), f(img, 3, 11.0))+20.0*torch.norm(z, p=2.0)\n",
        "    losses.append(loss.item())\n",
        "    loss.backward()\n",
        "    optimizer.step()\n",
        "\n",
        "    if i % 20 == 0:\n",
        "        print(\"iter {:04d}: y_error = {:03g}\".format(i,\n",
        "            loss.item()))"
      ],
      "metadata": {
        "colab": {
          "base_uri": "https://localhost:8080/"
        },
        "id": "KZd84hLM2Ecu",
        "outputId": "835fdb22-b3b7-46ad-b031-39fe36c902f9"
      },
      "execution_count": 13,
      "outputs": [
        {
          "output_type": "stream",
          "name": "stdout",
          "text": [
            "iter 0000: y_error = 3188.97\n",
            "iter 0020: y_error = 1575.91\n",
            "iter 0040: y_error = 1350.11\n",
            "iter 0060: y_error = 1263.92\n",
            "iter 0080: y_error = 1208.99\n",
            "iter 0100: y_error = 1171.89\n",
            "iter 0120: y_error = 1142.39\n",
            "iter 0140: y_error = 1115.32\n",
            "iter 0160: y_error = 1084.63\n",
            "iter 0180: y_error = 1065.19\n",
            "iter 0200: y_error = 1049.76\n",
            "iter 0220: y_error = 1029.33\n",
            "iter 0240: y_error = 1006.62\n",
            "iter 0260: y_error = 979.578\n",
            "iter 0280: y_error = 954.433\n",
            "iter 0300: y_error = 928.719\n",
            "iter 0320: y_error = 901.131\n",
            "iter 0340: y_error = 878.832\n",
            "iter 0360: y_error = 860.659\n",
            "iter 0380: y_error = 831.389\n",
            "iter 0400: y_error = 804.429\n",
            "iter 0420: y_error = 783.395\n",
            "iter 0440: y_error = 761.151\n",
            "iter 0460: y_error = 736.491\n",
            "iter 0480: y_error = 717.584\n",
            "iter 0500: y_error = 708.507\n",
            "iter 0520: y_error = 693.525\n",
            "iter 0540: y_error = 673.156\n",
            "iter 0560: y_error = 660.569\n",
            "iter 0580: y_error = 639.47\n",
            "iter 0600: y_error = 628.623\n",
            "iter 0620: y_error = 623.09\n",
            "iter 0640: y_error = 605.442\n",
            "iter 0660: y_error = 592.157\n",
            "iter 0680: y_error = 617.89\n",
            "iter 0700: y_error = 568.758\n",
            "iter 0720: y_error = 556.294\n",
            "iter 0740: y_error = 549.293\n",
            "iter 0760: y_error = 548.884\n",
            "iter 0780: y_error = 532.954\n",
            "iter 0800: y_error = 522.179\n",
            "iter 0820: y_error = 523.691\n",
            "iter 0840: y_error = 518.139\n",
            "iter 0860: y_error = 508.04\n",
            "iter 0880: y_error = 505.557\n",
            "iter 0900: y_error = 515.085\n",
            "iter 0920: y_error = 485.052\n",
            "iter 0940: y_error = 485.907\n",
            "iter 0960: y_error = 482.687\n",
            "iter 0980: y_error = 480.897\n"
          ]
        }
      ]
    },
    {
      "cell_type": "code",
      "source": [
        "res = G(z, step=step)"
      ],
      "metadata": {
        "id": "uSmdJ7EL2vb2"
      },
      "execution_count": 14,
      "outputs": []
    },
    {
      "cell_type": "code",
      "source": [
        "plt.imshow(img[0].permute([1,2,0]).detach().cpu().numpy())"
      ],
      "metadata": {
        "colab": {
          "base_uri": "https://localhost:8080/",
          "height": 303
        },
        "id": "MbAgwiupEqly",
        "outputId": "b203caf8-1bac-41f1-cdca-0acb3d2f6eb9"
      },
      "execution_count": 15,
      "outputs": [
        {
          "output_type": "stream",
          "name": "stderr",
          "text": [
            "WARNING:matplotlib.image:Clipping input data to the valid range for imshow with RGB data ([0..1] for floats or [0..255] for integers).\n"
          ]
        },
        {
          "output_type": "execute_result",
          "data": {
            "text/plain": [
              "<matplotlib.image.AxesImage at 0x7fa471579690>"
            ]
          },
          "metadata": {},
          "execution_count": 15
        },
        {
          "output_type": "display_data",
          "data": {
            "text/plain": [
              "<Figure size 432x288 with 1 Axes>"
            ],
            "image/png": "[encoded data removed]"
          },
          "metadata": {
            "needs_background": "light"
          }
        }
      ]
    },
    {
      "cell_type": "code",
      "source": [
        "plt.imshow(res[0].permute([1,2,0]).detach().cpu())"
      ],
      "metadata": {
        "colab": {
          "base_uri": "https://localhost:8080/",
          "height": 303
        },
        "id": "upC_Mv7b2GwQ",
        "outputId": "70a133b5-3ae5-4087-a02a-9aa487a944da"
      },
      "execution_count": 16,
      "outputs": [
        {
          "output_type": "stream",
          "name": "stderr",
          "text": [
            "WARNING:matplotlib.image:Clipping input data to the valid range for imshow with RGB data ([0..1] for floats or [0..255] for integers).\n"
          ]
        },
        {
          "output_type": "execute_result",
          "data": {
            "text/plain": [
              "<matplotlib.image.AxesImage at 0x7fa47bed9cd0>"
            ]
          },
          "metadata": {},
          "execution_count": 16
        },
        {
          "output_type": "display_data",
          "data": {
            "text/plain": [
              "<Figure size 432x288 with 1 Axes>"
            ],
            "image/png": "[encoded data removed]"
          },
          "metadata": {
            "needs_background": "light"
          }
        }
      ]
    },
    {
      "cell_type": "code",
      "source": [],
      "metadata": {
        "id": "f9kI8GpSX4VN"
      },
      "execution_count": null,
      "outputs": []
    }
  ]
}