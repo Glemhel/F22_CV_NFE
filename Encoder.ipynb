{
 "cells": [
  {
   "cell_type": "code",
   "execution_count": 1,
   "id": "789a1560",
   "metadata": {
    "_cell_guid": "b1076dfc-b9ad-4769-8c92-a6c4dae69d19",
    "_uuid": "8f2839f25d086af736a60e9eeb907d3b93b6e0e5",
    "execution": {
     "iopub.execute_input": "2022-10-12T14:18:00.599321Z",
     "iopub.status.busy": "2022-10-12T14:18:00.598932Z",
     "iopub.status.idle": "2022-10-12T14:18:03.767723Z",
     "shell.execute_reply": "2022-10-12T14:18:03.766600Z"
    },
    "papermill": {
     "duration": 3.186907,
     "end_time": "2022-10-12T14:18:03.770151",
     "exception": false,
     "start_time": "2022-10-12T14:18:00.583244",
     "status": "completed"
    },
    "tags": []
   },
   "outputs": [
    {
     "name": "stdout",
     "output_type": "stream",
     "text": [
      "Cloning into 'NFE'...\r\n",
      "remote: Enumerating objects: 114, done.\u001b[K\r\n",
      "remote: Counting objects: 100% (114/114), done.\u001b[K\r\n",
      "remote: Compressing objects: 100% (87/87), done.\u001b[K\r\n",
      "remote: Total 114 (delta 40), reused 91 (delta 20), pack-reused 0\u001b[K\r\n",
      "Receiving objects: 100% (114/114), 17.47 MiB | 21.61 MiB/s, done.\r\n",
      "Resolving deltas: 100% (40/40), done.\r\n"
     ]
    }
   ],
   "source": [
    "!git clone https://github.com/Palandr1234/NFE.git"
   ]
  },
  {
   "cell_type": "code",
   "execution_count": 2,
   "id": "415aeef5",
   "metadata": {
    "execution": {
     "iopub.execute_input": "2022-10-12T14:18:03.783837Z",
     "iopub.status.busy": "2022-10-12T14:18:03.782877Z",
     "iopub.status.idle": "2022-10-12T14:18:33.898235Z",
     "shell.execute_reply": "2022-10-12T14:18:33.897125Z"
    },
    "papermill": {
     "duration": 30.12449,
     "end_time": "2022-10-12T14:18:33.900561",
     "exception": false,
     "start_time": "2022-10-12T14:18:03.776071",
     "status": "completed"
    },
    "tags": []
   },
   "outputs": [
    {
     "name": "stdout",
     "output_type": "stream",
     "text": [
      "Collecting gdown\r\n",
      "  Downloading gdown-4.5.1.tar.gz (14 kB)\r\n",
      "  Installing build dependencies ... \u001b[?25l-\b \b\\\b \b|\b \b/\b \b-\b \b\\\b \bdone\r\n",
      "\u001b[?25h  Getting requirements to build wheel ... \u001b[?25l-\b \bdone\r\n",
      "\u001b[?25h  Preparing metadata (pyproject.toml) ... \u001b[?25l-\b \bdone\r\n",
      "\u001b[?25hRequirement already satisfied: filelock in /opt/conda/lib/python3.7/site-packages (from gdown) (3.7.1)\r\n",
      "Requirement already satisfied: beautifulsoup4 in /opt/conda/lib/python3.7/site-packages (from gdown) (4.11.1)\r\n",
      "Requirement already satisfied: six in /opt/conda/lib/python3.7/site-packages (from gdown) (1.15.0)\r\n",
      "Requirement already satisfied: requests[socks] in /opt/conda/lib/python3.7/site-packages (from gdown) (2.28.1)\r\n",
      "Requirement already satisfied: tqdm in /opt/conda/lib/python3.7/site-packages (from gdown) (4.64.0)\r\n",
      "Requirement already satisfied: soupsieve>1.2 in /opt/conda/lib/python3.7/site-packages (from beautifulsoup4->gdown) (2.3.1)\r\n",
      "Requirement already satisfied: idna<4,>=2.5 in /opt/conda/lib/python3.7/site-packages (from requests[socks]->gdown) (3.3)\r\n",
      "Requirement already satisfied: urllib3<1.27,>=1.21.1 in /opt/conda/lib/python3.7/site-packages (from requests[socks]->gdown) (1.26.12)\r\n",
      "Requirement already satisfied: certifi>=2017.4.17 in /opt/conda/lib/python3.7/site-packages (from requests[socks]->gdown) (2022.6.15.2)\r\n",
      "Requirement already satisfied: charset-normalizer<3,>=2 in /opt/conda/lib/python3.7/site-packages (from requests[socks]->gdown) (2.1.0)\r\n",
      "Requirement already satisfied: PySocks!=1.5.7,>=1.5.6 in /opt/conda/lib/python3.7/site-packages (from requests[socks]->gdown) (1.7.1)\r\n",
      "Building wheels for collected packages: gdown\r\n",
      "  Building wheel for gdown (pyproject.toml) ... \u001b[?25l-\b \bdone\r\n",
      "\u001b[?25h  Created wheel for gdown: filename=gdown-4.5.1-py3-none-any.whl size=14933 sha256=1fd5f404b0c2143c0e5da925c62ead7678c4c72ce7ac6dfd8e26e83cdd807b4d\r\n",
      "  Stored in directory: /root/.cache/pip/wheels/3d/ec/b0/a96d1d126183f98570a785e6bf8789fca559853a9260e928e1\r\n",
      "Successfully built gdown\r\n",
      "Installing collected packages: gdown\r\n",
      "Successfully installed gdown-4.5.1\r\n",
      "\u001b[33mWARNING: Running pip as the 'root' user can result in broken permissions and conflicting behaviour with the system package manager. It is recommended to use a virtual environment instead: https://pip.pypa.io/warnings/venv\u001b[0m\u001b[33m\r\n",
      "\u001b[0mDownloading...\r\n",
      "From: https://drive.google.com/uc?id=1zgT5-UOa9oby2mViweBQTaYmhsfwvHje\r\n",
      "To: /kaggle/working/Generator_v2_150.pth\r\n",
      "100%|███████████████████████████████████████| 98.0M/98.0M [00:00<00:00, 165MB/s]\r\n",
      "Downloading...\r\n",
      "From: https://drive.google.com/uc?id=1XDtGm6NOMYbKzNxKuf83hTLZgvX4n0E3\r\n",
      "To: /kaggle/working/Discriminator_v2_150.pth\r\n",
      "100%|███████████████████████████████████████| 71.3M/71.3M [00:00<00:00, 191MB/s]\r\n"
     ]
    }
   ],
   "source": [
    "!pip install gdown\n",
    "!gdown https://drive.google.com/uc?id=1zgT5-UOa9oby2mViweBQTaYmhsfwvHje\n",
    "!gdown https://drive.google.com/uc?id=1XDtGm6NOMYbKzNxKuf83hTLZgvX4n0E3"
   ]
  },
  {
   "cell_type": "code",
   "execution_count": 3,
   "id": "2ff15b33",
   "metadata": {
    "execution": {
     "iopub.execute_input": "2022-10-12T14:18:33.917041Z",
     "iopub.status.busy": "2022-10-12T14:18:33.916254Z",
     "iopub.status.idle": "2022-10-12T14:18:36.019695Z",
     "shell.execute_reply": "2022-10-12T14:18:36.018754Z"
    },
    "papermill": {
     "duration": 2.114075,
     "end_time": "2022-10-12T14:18:36.022187",
     "exception": false,
     "start_time": "2022-10-12T14:18:33.908112",
     "status": "completed"
    },
    "tags": []
   },
   "outputs": [],
   "source": [
    "import torch\n",
    "import torch.nn as nn\n",
    "import torch.optim as optim\n",
    "from torch.utils.data import Dataset, DataLoader\n",
    "import torchvision.transforms as transforms\n",
    "import torchvision\n",
    "from PIL import Image\n",
    "import glob\n",
    "import math\n",
    "import matplotlib.pyplot as plt\n",
    "\n",
    "from NFE.StyleGAN import *"
   ]
  },
  {
   "cell_type": "code",
   "execution_count": 4,
   "id": "7881bd8d",
   "metadata": {
    "execution": {
     "iopub.execute_input": "2022-10-12T14:18:36.039452Z",
     "iopub.status.busy": "2022-10-12T14:18:36.037682Z",
     "iopub.status.idle": "2022-10-12T14:18:36.100043Z",
     "shell.execute_reply": "2022-10-12T14:18:36.099123Z"
    },
    "papermill": {
     "duration": 0.072441,
     "end_time": "2022-10-12T14:18:36.102042",
     "exception": false,
     "start_time": "2022-10-12T14:18:36.029601",
     "status": "completed"
    },
    "tags": []
   },
   "outputs": [],
   "source": [
    "device = torch.device(\"cuda:0\" if torch.cuda.is_available() else \"cpu\")"
   ]
  },
  {
   "cell_type": "code",
   "execution_count": 5,
   "id": "4bfbe03a",
   "metadata": {
    "execution": {
     "iopub.execute_input": "2022-10-12T14:18:36.118066Z",
     "iopub.status.busy": "2022-10-12T14:18:36.117466Z",
     "iopub.status.idle": "2022-10-12T14:18:39.132550Z",
     "shell.execute_reply": "2022-10-12T14:18:39.131509Z"
    },
    "papermill": {
     "duration": 3.025552,
     "end_time": "2022-10-12T14:18:39.135034",
     "exception": false,
     "start_time": "2022-10-12T14:18:36.109482",
     "status": "completed"
    },
    "tags": []
   },
   "outputs": [],
   "source": [
    "G = torch.load(\"Generator_v2_150.pth\", map_location=device)\n",
    "D = torch.load(\"Discriminator_v2_150.pth\", map_location=device)"
   ]
  },
  {
   "cell_type": "code",
   "execution_count": 6,
   "id": "545c800c",
   "metadata": {
    "execution": {
     "iopub.execute_input": "2022-10-12T14:18:39.151474Z",
     "iopub.status.busy": "2022-10-12T14:18:39.150595Z",
     "iopub.status.idle": "2022-10-12T14:18:39.157973Z",
     "shell.execute_reply": "2022-10-12T14:18:39.157103Z"
    },
    "papermill": {
     "duration": 0.01711,
     "end_time": "2022-10-12T14:18:39.159739",
     "exception": false,
     "start_time": "2022-10-12T14:18:39.142629",
     "status": "completed"
    },
    "tags": []
   },
   "outputs": [],
   "source": [
    "class CustomDataset(Dataset):\n",
    "    def __init__(self, root_dir, transform=None):\n",
    "        super().__init__()\n",
    "        self.files = glob.glob(root_dir+\"/*\")\n",
    "        self.transform = transform\n",
    "    \n",
    "    def __len__(self):\n",
    "        return len(self.files)\n",
    "\n",
    "    def __getitem__(self, idx):\n",
    "        image = Image.open(self.files[idx]).convert(\"RGB\")\n",
    "        if self.transform is not None:\n",
    "            image = self.transform(image)\n",
    "        return image"
   ]
  },
  {
   "cell_type": "code",
   "execution_count": 7,
   "id": "bb7d1313",
   "metadata": {
    "execution": {
     "iopub.execute_input": "2022-10-12T14:18:39.176415Z",
     "iopub.status.busy": "2022-10-12T14:18:39.174794Z",
     "iopub.status.idle": "2022-10-12T14:18:39.932873Z",
     "shell.execute_reply": "2022-10-12T14:18:39.931906Z"
    },
    "papermill": {
     "duration": 0.768477,
     "end_time": "2022-10-12T14:18:39.935340",
     "exception": false,
     "start_time": "2022-10-12T14:18:39.166863",
     "status": "completed"
    },
    "tags": []
   },
   "outputs": [],
   "source": [
    "dataroot = \"../input/animefacedataset/images\"\n",
    "img_size=64\n",
    "batch_size = 8\n",
    "dataset = CustomDataset(root_dir=dataroot,\n",
    "                           transform=transforms.Compose([\n",
    "                               transforms.Resize((img_size, img_size)),\n",
    "                               transforms.ToTensor(),\n",
    "                               transforms.Normalize((0.5, 0.5, 0.5), (0.5, 0.5, 0.5)),\n",
    "                           ]))\n",
    "# Create the dataloader\n",
    "dataloader = torch.utils.data.DataLoader(dataset, batch_size=batch_size, shuffle=True)"
   ]
  },
  {
   "cell_type": "code",
   "execution_count": 8,
   "id": "a2a6f2a5",
   "metadata": {
    "execution": {
     "iopub.execute_input": "2022-10-12T14:18:39.952627Z",
     "iopub.status.busy": "2022-10-12T14:18:39.951949Z",
     "iopub.status.idle": "2022-10-12T14:18:39.959699Z",
     "shell.execute_reply": "2022-10-12T14:18:39.958812Z"
    },
    "papermill": {
     "duration": 0.018075,
     "end_time": "2022-10-12T14:18:39.961679",
     "exception": false,
     "start_time": "2022-10-12T14:18:39.943604",
     "status": "completed"
    },
    "tags": []
   },
   "outputs": [],
   "source": [
    "class ResBlock(nn.Module):\n",
    "    def __init__(self,in_channels, out_channels):\n",
    "        super().__init__()\n",
    "        self.conv = nn.Conv2d(in_channels, out_channels, 1)\n",
    "        self.act = nn.LeakyReLU(0.2)\n",
    "        self.conv1 = nn.Conv2d(in_channels, in_channels, 3, padding=1)\n",
    "        self.conv2 = nn.Conv2d(in_channels, out_channels, 3, padding=1)\n",
    "\n",
    "    def forward(self, x):\n",
    "        return self.act(self.conv(x))+self.act(self.conv2(self.act(self.conv1(x))))"
   ]
  },
  {
   "cell_type": "code",
   "execution_count": 9,
   "id": "c35f02da",
   "metadata": {
    "execution": {
     "iopub.execute_input": "2022-10-12T14:18:39.976987Z",
     "iopub.status.busy": "2022-10-12T14:18:39.976719Z",
     "iopub.status.idle": "2022-10-12T14:18:39.984759Z",
     "shell.execute_reply": "2022-10-12T14:18:39.983767Z"
    },
    "papermill": {
     "duration": 0.018012,
     "end_time": "2022-10-12T14:18:39.986894",
     "exception": false,
     "start_time": "2022-10-12T14:18:39.968882",
     "status": "completed"
    },
    "tags": []
   },
   "outputs": [],
   "source": [
    "class Encoder(nn.Module):\n",
    "    def __init__(self, z_dim=512):\n",
    "        super().__init__()\n",
    "        self.conv = nn.Sequential(\n",
    "            nn.Conv2d(3, 64, 3, padding=1), \n",
    "            nn.LeakyReLU(0.2),\n",
    "            nn.AvgPool2d(2),\n",
    "            ResBlock(64, 128),\n",
    "            nn.AvgPool2d(2),\n",
    "            ResBlock(128, 256),\n",
    "            nn.AvgPool2d(2),\n",
    "            ResBlock(256, 512),\n",
    "            nn.AvgPool2d(2),\n",
    "            ResBlock(512, 1024),\n",
    "        )   \n",
    "        self.linear = nn.Linear(1024*4*4, 512)         \n",
    "  \n",
    "    def forward(self, x):\n",
    "        x = self.conv(x)\n",
    "        x = x.reshape(x.size(0), -1)\n",
    "        return self.linear(x)"
   ]
  },
  {
   "cell_type": "code",
   "execution_count": 10,
   "id": "198ecd4b",
   "metadata": {
    "execution": {
     "iopub.execute_input": "2022-10-12T14:18:40.002053Z",
     "iopub.status.busy": "2022-10-12T14:18:40.001794Z",
     "iopub.status.idle": "2022-10-12T14:18:53.405568Z",
     "shell.execute_reply": "2022-10-12T14:18:53.404560Z"
    },
    "papermill": {
     "duration": 13.414254,
     "end_time": "2022-10-12T14:18:53.408002",
     "exception": false,
     "start_time": "2022-10-12T14:18:39.993748",
     "status": "completed"
    },
    "tags": []
   },
   "outputs": [
    {
     "name": "stderr",
     "output_type": "stream",
     "text": [
      "Downloading: \"https://download.pytorch.org/models/vgg16-397923af.pth\" to /root/.cache/torch/hub/checkpoints/vgg16-397923af.pth\n"
     ]
    },
    {
     "data": {
      "application/vnd.jupyter.widget-view+json": {
       "model_id": "dc6609242a7941fab148c9fd748f9e23",
       "version_major": 2,
       "version_minor": 0
      },
      "text/plain": [
       "  0%|          | 0.00/528M [00:00<?, ?B/s]"
      ]
     },
     "metadata": {},
     "output_type": "display_data"
    }
   ],
   "source": [
    "encoder = Encoder().to(device)\n",
    "lr = 3e-4\n",
    "optimizer = optim.Adam(encoder.parameters(), lr= lr)\n",
    "model = torchvision.models.vgg16(pretrained=True).features.to(device)"
   ]
  },
  {
   "cell_type": "code",
   "execution_count": 11,
   "id": "a4e4dceb",
   "metadata": {
    "execution": {
     "iopub.execute_input": "2022-10-12T14:18:53.424340Z",
     "iopub.status.busy": "2022-10-12T14:18:53.424026Z",
     "iopub.status.idle": "2022-10-12T14:18:53.428898Z",
     "shell.execute_reply": "2022-10-12T14:18:53.427977Z"
    },
    "papermill": {
     "duration": 0.015339,
     "end_time": "2022-10-12T14:18:53.430959",
     "exception": false,
     "start_time": "2022-10-12T14:18:53.415620",
     "status": "completed"
    },
    "tags": []
   },
   "outputs": [],
   "source": [
    "z_dim=512\n",
    "step = int(math.log(z_dim, 2)) -2\n",
    "criterion = torch.nn.MSELoss()\n",
    "\n",
    "epochs=10\n",
    "ce = nn.BCELoss()"
   ]
  },
  {
   "cell_type": "code",
   "execution_count": 12,
   "id": "b2465128",
   "metadata": {
    "execution": {
     "iopub.execute_input": "2022-10-12T14:18:53.447156Z",
     "iopub.status.busy": "2022-10-12T14:18:53.446396Z",
     "iopub.status.idle": "2022-10-12T16:30:47.814743Z",
     "shell.execute_reply": "2022-10-12T16:30:47.813753Z"
    },
    "papermill": {
     "duration": 7914.378999,
     "end_time": "2022-10-12T16:30:47.817391",
     "exception": false,
     "start_time": "2022-10-12T14:18:53.438392",
     "status": "completed"
    },
    "tags": []
   },
   "outputs": [
    {
     "name": "stdout",
     "output_type": "stream",
     "text": [
      "[0/10][0/7946]\tLoss: 0.3669\n",
      "[0/10][100/7946]\tLoss: 0.3212\n",
      "[0/10][200/7946]\tLoss: 0.2207\n",
      "[0/10][300/7946]\tLoss: 0.2797\n",
      "[0/10][400/7946]\tLoss: 0.2248\n",
      "[0/10][500/7946]\tLoss: 0.2113\n",
      "[0/10][600/7946]\tLoss: 0.1721\n",
      "[0/10][700/7946]\tLoss: 0.2310\n",
      "[0/10][800/7946]\tLoss: 0.2126\n",
      "[0/10][900/7946]\tLoss: 0.2037\n",
      "[0/10][1000/7946]\tLoss: 0.2109\n",
      "[0/10][1100/7946]\tLoss: 0.2050\n",
      "[0/10][1200/7946]\tLoss: 0.2443\n",
      "[0/10][1300/7946]\tLoss: 0.2285\n",
      "[0/10][1400/7946]\tLoss: 0.1728\n",
      "[0/10][1500/7946]\tLoss: 0.1749\n",
      "[0/10][1600/7946]\tLoss: 0.2054\n",
      "[0/10][1700/7946]\tLoss: 0.1933\n",
      "[0/10][1800/7946]\tLoss: 0.2494\n",
      "[0/10][1900/7946]\tLoss: 0.1383\n",
      "[0/10][2000/7946]\tLoss: 0.1817\n",
      "[0/10][2100/7946]\tLoss: 0.2219\n",
      "[0/10][2200/7946]\tLoss: 0.1851\n",
      "[0/10][2300/7946]\tLoss: 0.1623\n",
      "[0/10][2400/7946]\tLoss: 0.1612\n",
      "[0/10][2500/7946]\tLoss: 0.2123\n",
      "[0/10][2600/7946]\tLoss: 0.1423\n",
      "[0/10][2700/7946]\tLoss: 0.1987\n",
      "[0/10][2800/7946]\tLoss: 0.1741\n",
      "[0/10][2900/7946]\tLoss: 0.1700\n",
      "[0/10][3000/7946]\tLoss: 0.1886\n",
      "[0/10][3100/7946]\tLoss: 0.1757\n",
      "[0/10][3200/7946]\tLoss: 0.1966\n",
      "[0/10][3300/7946]\tLoss: 0.1968\n",
      "[0/10][3400/7946]\tLoss: 0.1474\n",
      "[0/10][3500/7946]\tLoss: 0.1844\n",
      "[0/10][3600/7946]\tLoss: 0.1820\n",
      "[0/10][3700/7946]\tLoss: 0.1946\n",
      "[0/10][3800/7946]\tLoss: 0.1438\n",
      "[0/10][3900/7946]\tLoss: 0.1611\n",
      "[0/10][4000/7946]\tLoss: 0.1610\n",
      "[0/10][4100/7946]\tLoss: 0.1689\n",
      "[0/10][4200/7946]\tLoss: 0.1701\n",
      "[0/10][4300/7946]\tLoss: 0.1765\n",
      "[0/10][4400/7946]\tLoss: 0.1481\n",
      "[0/10][4500/7946]\tLoss: 0.1769\n",
      "[0/10][4600/7946]\tLoss: 0.1625\n",
      "[0/10][4700/7946]\tLoss: 0.1812\n",
      "[0/10][4800/7946]\tLoss: 0.1791\n",
      "[0/10][4900/7946]\tLoss: 0.1367\n",
      "[0/10][5000/7946]\tLoss: 0.1300\n",
      "[0/10][5100/7946]\tLoss: 0.1295\n",
      "[0/10][5200/7946]\tLoss: 0.1468\n",
      "[0/10][5300/7946]\tLoss: 0.1594\n",
      "[0/10][5400/7946]\tLoss: 0.1877\n",
      "[0/10][5500/7946]\tLoss: 0.1552\n",
      "[0/10][5600/7946]\tLoss: 0.1962\n",
      "[0/10][5700/7946]\tLoss: 0.1879\n",
      "[0/10][5800/7946]\tLoss: 0.1437\n",
      "[0/10][5900/7946]\tLoss: 0.1748\n",
      "[0/10][6000/7946]\tLoss: 0.1628\n",
      "[0/10][6100/7946]\tLoss: 0.1707\n",
      "[0/10][6200/7946]\tLoss: 0.1603\n",
      "[0/10][6300/7946]\tLoss: 0.1634\n",
      "[0/10][6400/7946]\tLoss: 0.1508\n",
      "[0/10][6500/7946]\tLoss: 0.1377\n",
      "[0/10][6600/7946]\tLoss: 0.1499\n",
      "[0/10][6700/7946]\tLoss: 0.1400\n",
      "[0/10][6800/7946]\tLoss: 0.1147\n",
      "[0/10][6900/7946]\tLoss: 0.1636\n",
      "[0/10][7000/7946]\tLoss: 0.1619\n",
      "[0/10][7100/7946]\tLoss: 0.1753\n",
      "[0/10][7200/7946]\tLoss: 0.1520\n",
      "[0/10][7300/7946]\tLoss: 0.1551\n",
      "[0/10][7400/7946]\tLoss: 0.1307\n",
      "[0/10][7500/7946]\tLoss: 0.1547\n",
      "[0/10][7600/7946]\tLoss: 0.1583\n",
      "[0/10][7700/7946]\tLoss: 0.1641\n",
      "[0/10][7800/7946]\tLoss: 0.1607\n",
      "[0/10][7900/7946]\tLoss: 0.1563\n",
      "[1/10][0/7946]\tLoss: 0.1488\n",
      "[1/10][100/7946]\tLoss: 0.1705\n",
      "[1/10][200/7946]\tLoss: 0.1474\n",
      "[1/10][300/7946]\tLoss: 0.1465\n",
      "[1/10][400/7946]\tLoss: 0.1437\n",
      "[1/10][500/7946]\tLoss: 0.1590\n",
      "[1/10][600/7946]\tLoss: 0.1342\n",
      "[1/10][700/7946]\tLoss: 0.1619\n",
      "[1/10][800/7946]\tLoss: 0.1571\n",
      "[1/10][900/7946]\tLoss: 0.1491\n",
      "[1/10][1000/7946]\tLoss: 0.1903\n",
      "[1/10][1100/7946]\tLoss: 0.1603\n",
      "[1/10][1200/7946]\tLoss: 0.1607\n",
      "[1/10][1300/7946]\tLoss: 0.1281\n",
      "[1/10][1400/7946]\tLoss: 0.1325\n",
      "[1/10][1500/7946]\tLoss: 0.1785\n",
      "[1/10][1600/7946]\tLoss: 0.1337\n",
      "[1/10][1700/7946]\tLoss: 0.1657\n",
      "[1/10][1800/7946]\tLoss: 0.1486\n",
      "[1/10][1900/7946]\tLoss: 0.1356\n",
      "[1/10][2000/7946]\tLoss: 0.1308\n",
      "[1/10][2100/7946]\tLoss: 0.1354\n",
      "[1/10][2200/7946]\tLoss: 0.1496\n",
      "[1/10][2300/7946]\tLoss: 0.1519\n",
      "[1/10][2400/7946]\tLoss: 0.1315\n",
      "[1/10][2500/7946]\tLoss: 0.1384\n",
      "[1/10][2600/7946]\tLoss: 0.1552\n",
      "[1/10][2700/7946]\tLoss: 0.1565\n",
      "[1/10][2800/7946]\tLoss: 0.1351\n",
      "[1/10][2900/7946]\tLoss: 0.1489\n",
      "[1/10][3000/7946]\tLoss: 0.1556\n",
      "[1/10][3100/7946]\tLoss: 0.1416\n",
      "[1/10][3200/7946]\tLoss: 0.1265\n",
      "[1/10][3300/7946]\tLoss: 0.1145\n",
      "[1/10][3400/7946]\tLoss: 0.1797\n",
      "[1/10][3500/7946]\tLoss: 0.1370\n",
      "[1/10][3600/7946]\tLoss: 0.1546\n",
      "[1/10][3700/7946]\tLoss: 0.1264\n",
      "[1/10][3800/7946]\tLoss: 0.1306\n",
      "[1/10][3900/7946]\tLoss: 0.1630\n",
      "[1/10][4000/7946]\tLoss: 0.1460\n",
      "[1/10][4100/7946]\tLoss: 0.1278\n",
      "[1/10][4200/7946]\tLoss: 0.1629\n",
      "[1/10][4300/7946]\tLoss: 0.1438\n",
      "[1/10][4400/7946]\tLoss: 0.1603\n",
      "[1/10][4500/7946]\tLoss: 0.1276\n",
      "[1/10][4600/7946]\tLoss: 0.1312\n",
      "[1/10][4700/7946]\tLoss: 0.1440\n",
      "[1/10][4800/7946]\tLoss: 0.1805\n",
      "[1/10][4900/7946]\tLoss: 0.1511\n",
      "[1/10][5000/7946]\tLoss: 0.1512\n",
      "[1/10][5100/7946]\tLoss: 0.1907\n",
      "[1/10][5200/7946]\tLoss: 0.1189\n",
      "[1/10][5300/7946]\tLoss: 0.1694\n",
      "[1/10][5400/7946]\tLoss: 0.1501\n",
      "[1/10][5500/7946]\tLoss: 0.1577\n",
      "[1/10][5600/7946]\tLoss: 0.1563\n",
      "[1/10][5700/7946]\tLoss: 0.1252\n",
      "[1/10][5800/7946]\tLoss: 0.1371\n",
      "[1/10][5900/7946]\tLoss: 0.1427\n",
      "[1/10][6000/7946]\tLoss: 0.1393\n",
      "[1/10][6100/7946]\tLoss: 0.1617\n",
      "[1/10][6200/7946]\tLoss: 0.1571\n",
      "[1/10][6300/7946]\tLoss: 0.1533\n",
      "[1/10][6400/7946]\tLoss: 0.1294\n",
      "[1/10][6500/7946]\tLoss: 0.1464\n",
      "[1/10][6600/7946]\tLoss: 0.1536\n",
      "[1/10][6700/7946]\tLoss: 0.1191\n",
      "[1/10][6800/7946]\tLoss: 0.1275\n",
      "[1/10][6900/7946]\tLoss: 0.1456\n",
      "[1/10][7000/7946]\tLoss: 0.1460\n",
      "[1/10][7100/7946]\tLoss: 0.1301\n",
      "[1/10][7200/7946]\tLoss: 0.1255\n",
      "[1/10][7300/7946]\tLoss: 0.1486\n",
      "[1/10][7400/7946]\tLoss: 0.1791\n",
      "[1/10][7500/7946]\tLoss: 0.1497\n",
      "[1/10][7600/7946]\tLoss: 0.1485\n",
      "[1/10][7700/7946]\tLoss: 0.1371\n",
      "[1/10][7800/7946]\tLoss: 0.1343\n",
      "[1/10][7900/7946]\tLoss: 0.1822\n",
      "[2/10][0/7946]\tLoss: 0.1930\n",
      "[2/10][100/7946]\tLoss: 0.1488\n",
      "[2/10][200/7946]\tLoss: 0.1525\n",
      "[2/10][300/7946]\tLoss: 0.1264\n",
      "[2/10][400/7946]\tLoss: 0.1361\n",
      "[2/10][500/7946]\tLoss: 0.1440\n",
      "[2/10][600/7946]\tLoss: 0.1257\n",
      "[2/10][700/7946]\tLoss: 0.1834\n",
      "[2/10][800/7946]\tLoss: 0.1289\n",
      "[2/10][900/7946]\tLoss: 0.1348\n",
      "[2/10][1000/7946]\tLoss: 0.1397\n",
      "[2/10][1100/7946]\tLoss: 0.1271\n",
      "[2/10][1200/7946]\tLoss: 0.1287\n",
      "[2/10][1300/7946]\tLoss: 0.1324\n",
      "[2/10][1400/7946]\tLoss: 0.1524\n",
      "[2/10][1500/7946]\tLoss: 0.1621\n",
      "[2/10][1600/7946]\tLoss: 0.1720\n",
      "[2/10][1700/7946]\tLoss: 0.1247\n",
      "[2/10][1800/7946]\tLoss: 0.1478\n",
      "[2/10][1900/7946]\tLoss: 0.1194\n",
      "[2/10][2000/7946]\tLoss: 0.1415\n",
      "[2/10][2100/7946]\tLoss: 0.1508\n",
      "[2/10][2200/7946]\tLoss: 0.1474\n",
      "[2/10][2300/7946]\tLoss: 0.1343\n",
      "[2/10][2400/7946]\tLoss: 0.1429\n",
      "[2/10][2500/7946]\tLoss: 0.1525\n",
      "[2/10][2600/7946]\tLoss: 0.1365\n",
      "[2/10][2700/7946]\tLoss: 0.1484\n",
      "[2/10][2800/7946]\tLoss: 0.1542\n",
      "[2/10][2900/7946]\tLoss: 0.1797\n",
      "[2/10][3000/7946]\tLoss: 0.1281\n",
      "[2/10][3100/7946]\tLoss: 0.1377\n",
      "[2/10][3200/7946]\tLoss: 0.1254\n",
      "[2/10][3300/7946]\tLoss: 0.1285\n",
      "[2/10][3400/7946]\tLoss: 0.1635\n",
      "[2/10][3500/7946]\tLoss: 0.1397\n",
      "[2/10][3600/7946]\tLoss: 0.1702\n",
      "[2/10][3700/7946]\tLoss: 0.1478\n",
      "[2/10][3800/7946]\tLoss: 0.1421\n",
      "[2/10][3900/7946]\tLoss: 0.1665\n",
      "[2/10][4000/7946]\tLoss: 0.1348\n",
      "[2/10][4100/7946]\tLoss: 0.1142\n",
      "[2/10][4200/7946]\tLoss: 0.1287\n",
      "[2/10][4300/7946]\tLoss: 0.1632\n",
      "[2/10][4400/7946]\tLoss: 0.1209\n",
      "[2/10][4500/7946]\tLoss: 0.1272\n",
      "[2/10][4600/7946]\tLoss: 0.1231\n",
      "[2/10][4700/7946]\tLoss: 0.1457\n",
      "[2/10][4800/7946]\tLoss: 0.1395\n",
      "[2/10][4900/7946]\tLoss: 0.1463\n",
      "[2/10][5000/7946]\tLoss: 0.1378\n",
      "[2/10][5100/7946]\tLoss: 0.1241\n",
      "[2/10][5200/7946]\tLoss: 0.1633\n",
      "[2/10][5300/7946]\tLoss: 0.1674\n",
      "[2/10][5400/7946]\tLoss: 0.1071\n",
      "[2/10][5500/7946]\tLoss: 0.1328\n",
      "[2/10][5600/7946]\tLoss: 0.1332\n",
      "[2/10][5700/7946]\tLoss: 0.1374\n",
      "[2/10][5800/7946]\tLoss: 0.1307\n",
      "[2/10][5900/7946]\tLoss: 0.1391\n",
      "[2/10][6000/7946]\tLoss: 0.1492\n",
      "[2/10][6100/7946]\tLoss: 0.1405\n",
      "[2/10][6200/7946]\tLoss: 0.1588\n",
      "[2/10][6300/7946]\tLoss: 0.1048\n",
      "[2/10][6400/7946]\tLoss: 0.1706\n",
      "[2/10][6500/7946]\tLoss: 0.1009\n",
      "[2/10][6600/7946]\tLoss: 0.1573\n",
      "[2/10][6700/7946]\tLoss: 0.1372\n",
      "[2/10][6800/7946]\tLoss: 0.1534\n",
      "[2/10][6900/7946]\tLoss: 0.1288\n",
      "[2/10][7000/7946]\tLoss: 0.1173\n",
      "[2/10][7100/7946]\tLoss: 0.1399\n",
      "[2/10][7200/7946]\tLoss: 0.1385\n",
      "[2/10][7300/7946]\tLoss: 0.1136\n",
      "[2/10][7400/7946]\tLoss: 0.1351\n",
      "[2/10][7500/7946]\tLoss: 0.1566\n",
      "[2/10][7600/7946]\tLoss: 0.1543\n",
      "[2/10][7700/7946]\tLoss: 0.1473\n",
      "[2/10][7800/7946]\tLoss: 0.1221\n",
      "[2/10][7900/7946]\tLoss: 0.1236\n",
      "[3/10][0/7946]\tLoss: 0.1243\n",
      "[3/10][100/7946]\tLoss: 0.1278\n",
      "[3/10][200/7946]\tLoss: 0.1248\n",
      "[3/10][300/7946]\tLoss: 0.1314\n",
      "[3/10][400/7946]\tLoss: 0.1278\n",
      "[3/10][500/7946]\tLoss: 0.1359\n",
      "[3/10][600/7946]\tLoss: 0.1111\n",
      "[3/10][700/7946]\tLoss: 0.1336\n",
      "[3/10][800/7946]\tLoss: 0.1366\n",
      "[3/10][900/7946]\tLoss: 0.1238\n",
      "[3/10][1000/7946]\tLoss: 0.1349\n",
      "[3/10][1100/7946]\tLoss: 0.1105\n",
      "[3/10][1200/7946]\tLoss: 0.1256\n",
      "[3/10][1300/7946]\tLoss: 0.1533\n",
      "[3/10][1400/7946]\tLoss: 0.1481\n",
      "[3/10][1500/7946]\tLoss: 0.1406\n",
      "[3/10][1600/7946]\tLoss: 0.1265\n",
      "[3/10][1700/7946]\tLoss: 0.1463\n",
      "[3/10][1800/7946]\tLoss: 0.1275\n",
      "[3/10][1900/7946]\tLoss: 0.1201\n",
      "[3/10][2000/7946]\tLoss: 0.1335\n",
      "[3/10][2100/7946]\tLoss: 0.1156\n",
      "[3/10][2200/7946]\tLoss: 0.1304\n",
      "[3/10][2300/7946]\tLoss: 0.1331\n",
      "[3/10][2400/7946]\tLoss: 0.1126\n",
      "[3/10][2500/7946]\tLoss: 0.1420\n",
      "[3/10][2600/7946]\tLoss: 0.1331\n",
      "[3/10][2700/7946]\tLoss: 0.1288\n",
      "[3/10][2800/7946]\tLoss: 0.1162\n",
      "[3/10][2900/7946]\tLoss: 0.1199\n",
      "[3/10][3000/7946]\tLoss: 0.1421\n",
      "[3/10][3100/7946]\tLoss: 0.1441\n",
      "[3/10][3200/7946]\tLoss: 0.1396\n",
      "[3/10][3300/7946]\tLoss: 0.1508\n",
      "[3/10][3400/7946]\tLoss: 0.1257\n",
      "[3/10][3500/7946]\tLoss: 0.1084\n",
      "[3/10][3600/7946]\tLoss: 0.1196\n",
      "[3/10][3700/7946]\tLoss: 0.1129\n",
      "[3/10][3800/7946]\tLoss: 0.1323\n",
      "[3/10][3900/7946]\tLoss: 0.1452\n",
      "[3/10][4000/7946]\tLoss: 0.1242\n",
      "[3/10][4100/7946]\tLoss: 0.1248\n",
      "[3/10][4200/7946]\tLoss: 0.1200\n",
      "[3/10][4300/7946]\tLoss: 0.1217\n",
      "[3/10][4400/7946]\tLoss: 0.1570\n",
      "[3/10][4500/7946]\tLoss: 0.1506\n",
      "[3/10][4600/7946]\tLoss: 0.1226\n",
      "[3/10][4700/7946]\tLoss: 0.1163\n",
      "[3/10][4800/7946]\tLoss: 0.1324\n",
      "[3/10][4900/7946]\tLoss: 0.1206\n",
      "[3/10][5000/7946]\tLoss: 0.1242\n",
      "[3/10][5100/7946]\tLoss: 0.1306\n",
      "[3/10][5200/7946]\tLoss: 0.1224\n",
      "[3/10][5300/7946]\tLoss: 0.1384\n",
      "[3/10][5400/7946]\tLoss: 0.1305\n",
      "[3/10][5500/7946]\tLoss: 0.1104\n",
      "[3/10][5600/7946]\tLoss: 0.1216\n",
      "[3/10][5700/7946]\tLoss: 0.1494\n",
      "[3/10][5800/7946]\tLoss: 0.1280\n",
      "[3/10][5900/7946]\tLoss: 0.1270\n",
      "[3/10][6000/7946]\tLoss: 0.1304\n",
      "[3/10][6100/7946]\tLoss: 0.1269\n",
      "[3/10][6200/7946]\tLoss: 0.1372\n",
      "[3/10][6300/7946]\tLoss: 0.1247\n",
      "[3/10][6400/7946]\tLoss: 0.1332\n",
      "[3/10][6500/7946]\tLoss: 0.1248\n",
      "[3/10][6600/7946]\tLoss: 0.1306\n",
      "[3/10][6700/7946]\tLoss: 0.1171\n",
      "[3/10][6800/7946]\tLoss: 0.1270\n",
      "[3/10][6900/7946]\tLoss: 0.1223\n",
      "[3/10][7000/7946]\tLoss: 0.1302\n",
      "[3/10][7100/7946]\tLoss: 0.1275\n",
      "[3/10][7200/7946]\tLoss: 0.1398\n",
      "[3/10][7300/7946]\tLoss: 0.1444\n",
      "[3/10][7400/7946]\tLoss: 0.1365\n",
      "[3/10][7500/7946]\tLoss: 0.1366\n",
      "[3/10][7600/7946]\tLoss: 0.1433\n",
      "[3/10][7700/7946]\tLoss: 0.1257\n",
      "[3/10][7800/7946]\tLoss: 0.1497\n",
      "[3/10][7900/7946]\tLoss: 0.1487\n",
      "[4/10][0/7946]\tLoss: 0.1333\n",
      "[4/10][100/7946]\tLoss: 0.1276\n",
      "[4/10][200/7946]\tLoss: 0.1199\n",
      "[4/10][300/7946]\tLoss: 0.1370\n",
      "[4/10][400/7946]\tLoss: 0.1400\n",
      "[4/10][500/7946]\tLoss: 0.1300\n",
      "[4/10][600/7946]\tLoss: 0.1143\n",
      "[4/10][700/7946]\tLoss: 0.1394\n",
      "[4/10][800/7946]\tLoss: 0.1364\n",
      "[4/10][900/7946]\tLoss: 0.1221\n",
      "[4/10][1000/7946]\tLoss: 0.1171\n",
      "[4/10][1100/7946]\tLoss: 0.1426\n",
      "[4/10][1200/7946]\tLoss: 0.1049\n",
      "[4/10][1300/7946]\tLoss: 0.1241\n",
      "[4/10][1400/7946]\tLoss: 0.1284\n",
      "[4/10][1500/7946]\tLoss: 0.1361\n",
      "[4/10][1600/7946]\tLoss: 0.1272\n",
      "[4/10][1700/7946]\tLoss: 0.1594\n",
      "[4/10][1800/7946]\tLoss: 0.1415\n",
      "[4/10][1900/7946]\tLoss: 0.1269\n",
      "[4/10][2000/7946]\tLoss: 0.1563\n",
      "[4/10][2100/7946]\tLoss: 0.1452\n",
      "[4/10][2200/7946]\tLoss: 0.1424\n",
      "[4/10][2300/7946]\tLoss: 0.1330\n",
      "[4/10][2400/7946]\tLoss: 0.1497\n",
      "[4/10][2500/7946]\tLoss: 0.1388\n",
      "[4/10][2600/7946]\tLoss: 0.1227\n",
      "[4/10][2700/7946]\tLoss: 0.1364\n",
      "[4/10][2800/7946]\tLoss: 0.1545\n",
      "[4/10][2900/7946]\tLoss: 0.1538\n",
      "[4/10][3000/7946]\tLoss: 0.1277\n",
      "[4/10][3100/7946]\tLoss: 0.1288\n",
      "[4/10][3200/7946]\tLoss: 0.1274\n",
      "[4/10][3300/7946]\tLoss: 0.1183\n",
      "[4/10][3400/7946]\tLoss: 0.1160\n",
      "[4/10][3500/7946]\tLoss: 0.1261\n",
      "[4/10][3600/7946]\tLoss: 0.1491\n",
      "[4/10][3700/7946]\tLoss: 0.1276\n",
      "[4/10][3800/7946]\tLoss: 0.0925\n",
      "[4/10][3900/7946]\tLoss: 0.1017\n",
      "[4/10][4000/7946]\tLoss: 0.1176\n",
      "[4/10][4100/7946]\tLoss: 0.1116\n",
      "[4/10][4200/7946]\tLoss: 0.1429\n",
      "[4/10][4300/7946]\tLoss: 0.1095\n",
      "[4/10][4400/7946]\tLoss: 0.1282\n",
      "[4/10][4500/7946]\tLoss: 0.1304\n",
      "[4/10][4600/7946]\tLoss: 0.1481\n",
      "[4/10][4700/7946]\tLoss: 0.1174\n",
      "[4/10][4800/7946]\tLoss: 0.1262\n",
      "[4/10][4900/7946]\tLoss: 0.1277\n",
      "[4/10][5000/7946]\tLoss: 0.1425\n",
      "[4/10][5100/7946]\tLoss: 0.1350\n",
      "[4/10][5200/7946]\tLoss: 0.1498\n",
      "[4/10][5300/7946]\tLoss: 0.1400\n",
      "[4/10][5400/7946]\tLoss: 0.1214\n",
      "[4/10][5500/7946]\tLoss: 0.1436\n",
      "[4/10][5600/7946]\tLoss: 0.1270\n",
      "[4/10][5700/7946]\tLoss: 0.1253\n",
      "[4/10][5800/7946]\tLoss: 0.1173\n",
      "[4/10][5900/7946]\tLoss: 0.1308\n",
      "[4/10][6000/7946]\tLoss: 0.1458\n",
      "[4/10][6100/7946]\tLoss: 0.1397\n",
      "[4/10][6200/7946]\tLoss: 0.1420\n",
      "[4/10][6300/7946]\tLoss: 0.1325\n",
      "[4/10][6400/7946]\tLoss: 0.1366\n",
      "[4/10][6500/7946]\tLoss: 0.1220\n",
      "[4/10][6600/7946]\tLoss: 0.1292\n",
      "[4/10][6700/7946]\tLoss: 0.1294\n",
      "[4/10][6800/7946]\tLoss: 0.1381\n",
      "[4/10][6900/7946]\tLoss: 0.1571\n",
      "[4/10][7000/7946]\tLoss: 0.1470\n",
      "[4/10][7100/7946]\tLoss: 0.1483\n",
      "[4/10][7200/7946]\tLoss: 0.1113\n",
      "[4/10][7300/7946]\tLoss: 0.1123\n",
      "[4/10][7400/7946]\tLoss: 0.1376\n",
      "[4/10][7500/7946]\tLoss: 0.1244\n",
      "[4/10][7600/7946]\tLoss: 0.1629\n",
      "[4/10][7700/7946]\tLoss: 0.1387\n",
      "[4/10][7800/7946]\tLoss: 0.1506\n",
      "[4/10][7900/7946]\tLoss: 0.1523\n",
      "[5/10][0/7946]\tLoss: 0.1500\n",
      "[5/10][100/7946]\tLoss: 0.1244\n",
      "[5/10][200/7946]\tLoss: 0.1392\n",
      "[5/10][300/7946]\tLoss: 0.1374\n",
      "[5/10][400/7946]\tLoss: 0.1485\n",
      "[5/10][500/7946]\tLoss: 0.1139\n",
      "[5/10][600/7946]\tLoss: 0.1218\n",
      "[5/10][700/7946]\tLoss: 0.1071\n",
      "[5/10][800/7946]\tLoss: 0.1430\n",
      "[5/10][900/7946]\tLoss: 0.1355\n",
      "[5/10][1000/7946]\tLoss: 0.1234\n",
      "[5/10][1100/7946]\tLoss: 0.1223\n",
      "[5/10][1200/7946]\tLoss: 0.1363\n",
      "[5/10][1300/7946]\tLoss: 0.1064\n",
      "[5/10][1400/7946]\tLoss: 0.1445\n",
      "[5/10][1500/7946]\tLoss: 0.1399\n",
      "[5/10][1600/7946]\tLoss: 0.1163\n",
      "[5/10][1700/7946]\tLoss: 0.1435\n",
      "[5/10][1800/7946]\tLoss: 0.1188\n",
      "[5/10][1900/7946]\tLoss: 0.1340\n",
      "[5/10][2000/7946]\tLoss: 0.1428\n",
      "[5/10][2100/7946]\tLoss: 0.1229\n",
      "[5/10][2200/7946]\tLoss: 0.1330\n",
      "[5/10][2300/7946]\tLoss: 0.1192\n",
      "[5/10][2400/7946]\tLoss: 0.1136\n",
      "[5/10][2500/7946]\tLoss: 0.1197\n",
      "[5/10][2600/7946]\tLoss: 0.1585\n",
      "[5/10][2700/7946]\tLoss: 0.1451\n",
      "[5/10][2800/7946]\tLoss: 0.1155\n",
      "[5/10][2900/7946]\tLoss: 0.1229\n",
      "[5/10][3000/7946]\tLoss: 0.1264\n",
      "[5/10][3100/7946]\tLoss: 0.1322\n",
      "[5/10][3200/7946]\tLoss: 0.1327\n",
      "[5/10][3300/7946]\tLoss: 0.1280\n",
      "[5/10][3400/7946]\tLoss: 0.1164\n",
      "[5/10][3500/7946]\tLoss: 0.1216\n",
      "[5/10][3600/7946]\tLoss: 0.1139\n",
      "[5/10][3700/7946]\tLoss: 0.1187\n",
      "[5/10][3800/7946]\tLoss: 0.1508\n",
      "[5/10][3900/7946]\tLoss: 0.1380\n",
      "[5/10][4000/7946]\tLoss: 0.0989\n",
      "[5/10][4100/7946]\tLoss: 0.1259\n",
      "[5/10][4200/7946]\tLoss: 0.1370\n",
      "[5/10][4300/7946]\tLoss: 0.1392\n",
      "[5/10][4400/7946]\tLoss: 0.1224\n",
      "[5/10][4500/7946]\tLoss: 0.1431\n",
      "[5/10][4600/7946]\tLoss: 0.1187\n",
      "[5/10][4700/7946]\tLoss: 0.1370\n",
      "[5/10][4800/7946]\tLoss: 0.1170\n",
      "[5/10][4900/7946]\tLoss: 0.1236\n",
      "[5/10][5000/7946]\tLoss: 0.1269\n",
      "[5/10][5100/7946]\tLoss: 0.1186\n",
      "[5/10][5200/7946]\tLoss: 0.1406\n",
      "[5/10][5300/7946]\tLoss: 0.1339\n",
      "[5/10][5400/7946]\tLoss: 0.1129\n",
      "[5/10][5500/7946]\tLoss: 0.1121\n",
      "[5/10][5600/7946]\tLoss: 0.1115\n",
      "[5/10][5700/7946]\tLoss: 0.1581\n",
      "[5/10][5800/7946]\tLoss: 0.1417\n",
      "[5/10][5900/7946]\tLoss: 0.1353\n",
      "[5/10][6000/7946]\tLoss: 0.1315\n",
      "[5/10][6100/7946]\tLoss: 0.1438\n",
      "[5/10][6200/7946]\tLoss: 0.1161\n",
      "[5/10][6300/7946]\tLoss: 0.1190\n",
      "[5/10][6400/7946]\tLoss: 0.1300\n",
      "[5/10][6500/7946]\tLoss: 0.1368\n",
      "[5/10][6600/7946]\tLoss: 0.1724\n",
      "[5/10][6700/7946]\tLoss: 0.1237\n",
      "[5/10][6800/7946]\tLoss: 0.1242\n",
      "[5/10][6900/7946]\tLoss: 0.1611\n",
      "[5/10][7000/7946]\tLoss: 0.1197\n",
      "[5/10][7100/7946]\tLoss: 0.1137\n",
      "[5/10][7200/7946]\tLoss: 0.1235\n",
      "[5/10][7300/7946]\tLoss: 0.1718\n",
      "[5/10][7400/7946]\tLoss: 0.1256\n",
      "[5/10][7500/7946]\tLoss: 0.1249\n",
      "[5/10][7600/7946]\tLoss: 0.1557\n",
      "[5/10][7700/7946]\tLoss: 0.1183\n",
      "[5/10][7800/7946]\tLoss: 0.1453\n",
      "[5/10][7900/7946]\tLoss: 0.1225\n",
      "[6/10][0/7946]\tLoss: 0.1169\n",
      "[6/10][100/7946]\tLoss: 0.1440\n",
      "[6/10][200/7946]\tLoss: 0.1416\n",
      "[6/10][300/7946]\tLoss: 0.1267\n",
      "[6/10][400/7946]\tLoss: 0.1056\n",
      "[6/10][500/7946]\tLoss: 0.1307\n",
      "[6/10][600/7946]\tLoss: 0.1241\n",
      "[6/10][700/7946]\tLoss: 0.1150\n",
      "[6/10][800/7946]\tLoss: 0.1274\n",
      "[6/10][900/7946]\tLoss: 0.1438\n",
      "[6/10][1000/7946]\tLoss: 0.1180\n",
      "[6/10][1100/7946]\tLoss: 0.1034\n",
      "[6/10][1200/7946]\tLoss: 0.1251\n",
      "[6/10][1300/7946]\tLoss: 0.1203\n",
      "[6/10][1400/7946]\tLoss: 0.1407\n",
      "[6/10][1500/7946]\tLoss: 0.1215\n",
      "[6/10][1600/7946]\tLoss: 0.1380\n",
      "[6/10][1700/7946]\tLoss: 0.1171\n",
      "[6/10][1800/7946]\tLoss: 0.1291\n",
      "[6/10][1900/7946]\tLoss: 0.1444\n",
      "[6/10][2000/7946]\tLoss: 0.1271\n",
      "[6/10][2100/7946]\tLoss: 0.1329\n",
      "[6/10][2200/7946]\tLoss: 0.1615\n",
      "[6/10][2300/7946]\tLoss: 0.1130\n",
      "[6/10][2400/7946]\tLoss: 0.1367\n",
      "[6/10][2500/7946]\tLoss: 0.1355\n",
      "[6/10][2600/7946]\tLoss: 0.1295\n",
      "[6/10][2700/7946]\tLoss: 0.1274\n",
      "[6/10][2800/7946]\tLoss: 0.1101\n",
      "[6/10][2900/7946]\tLoss: 0.1336\n",
      "[6/10][3000/7946]\tLoss: 0.1134\n",
      "[6/10][3100/7946]\tLoss: 0.1401\n",
      "[6/10][3200/7946]\tLoss: 0.1175\n",
      "[6/10][3300/7946]\tLoss: 0.1210\n",
      "[6/10][3400/7946]\tLoss: 0.1328\n",
      "[6/10][3500/7946]\tLoss: 0.1243\n",
      "[6/10][3600/7946]\tLoss: 0.1405\n",
      "[6/10][3700/7946]\tLoss: 0.1462\n",
      "[6/10][3800/7946]\tLoss: 0.1266\n",
      "[6/10][3900/7946]\tLoss: 0.1319\n",
      "[6/10][4000/7946]\tLoss: 0.1220\n",
      "[6/10][4100/7946]\tLoss: 0.1341\n",
      "[6/10][4200/7946]\tLoss: 0.1622\n",
      "[6/10][4300/7946]\tLoss: 0.1318\n",
      "[6/10][4400/7946]\tLoss: 0.1394\n",
      "[6/10][4500/7946]\tLoss: 0.1327\n",
      "[6/10][4600/7946]\tLoss: 0.1570\n",
      "[6/10][4700/7946]\tLoss: 0.1081\n",
      "[6/10][4800/7946]\tLoss: 0.1330\n",
      "[6/10][4900/7946]\tLoss: 0.1200\n",
      "[6/10][5000/7946]\tLoss: 0.1145\n",
      "[6/10][5100/7946]\tLoss: 0.1144\n",
      "[6/10][5200/7946]\tLoss: 0.1541\n",
      "[6/10][5300/7946]\tLoss: 0.1014\n",
      "[6/10][5400/7946]\tLoss: 0.1181\n",
      "[6/10][5500/7946]\tLoss: 0.1255\n",
      "[6/10][5600/7946]\tLoss: 0.1063\n",
      "[6/10][5700/7946]\tLoss: 0.1259\n",
      "[6/10][5800/7946]\tLoss: 0.1131\n",
      "[6/10][5900/7946]\tLoss: 0.1072\n",
      "[6/10][6000/7946]\tLoss: 0.1146\n",
      "[6/10][6100/7946]\tLoss: 0.1499\n",
      "[6/10][6200/7946]\tLoss: 0.1326\n",
      "[6/10][6300/7946]\tLoss: 0.1468\n",
      "[6/10][6400/7946]\tLoss: 0.1248\n",
      "[6/10][6500/7946]\tLoss: 0.1463\n",
      "[6/10][6600/7946]\tLoss: 0.1297\n",
      "[6/10][6700/7946]\tLoss: 0.1392\n",
      "[6/10][6800/7946]\tLoss: 0.1186\n",
      "[6/10][6900/7946]\tLoss: 0.1301\n",
      "[6/10][7000/7946]\tLoss: 0.1173\n",
      "[6/10][7100/7946]\tLoss: 0.1294\n",
      "[6/10][7200/7946]\tLoss: 0.1435\n",
      "[6/10][7300/7946]\tLoss: 0.1183\n",
      "[6/10][7400/7946]\tLoss: 0.1278\n",
      "[6/10][7500/7946]\tLoss: 0.1210\n",
      "[6/10][7600/7946]\tLoss: 0.1065\n",
      "[6/10][7700/7946]\tLoss: 0.1201\n",
      "[6/10][7800/7946]\tLoss: 0.1552\n",
      "[6/10][7900/7946]\tLoss: 0.1024\n",
      "[7/10][0/7946]\tLoss: 0.1158\n",
      "[7/10][100/7946]\tLoss: 0.1105\n",
      "[7/10][200/7946]\tLoss: 0.1070\n",
      "[7/10][300/7946]\tLoss: 0.1238\n",
      "[7/10][400/7946]\tLoss: 0.1228\n",
      "[7/10][500/7946]\tLoss: 0.1063\n",
      "[7/10][600/7946]\tLoss: 0.1359\n",
      "[7/10][700/7946]\tLoss: 0.1239\n",
      "[7/10][800/7946]\tLoss: 0.1361\n",
      "[7/10][900/7946]\tLoss: 0.1325\n",
      "[7/10][1000/7946]\tLoss: 0.1283\n",
      "[7/10][1100/7946]\tLoss: 0.1234\n",
      "[7/10][1200/7946]\tLoss: 0.1176\n",
      "[7/10][1300/7946]\tLoss: 0.1215\n",
      "[7/10][1400/7946]\tLoss: 0.1042\n",
      "[7/10][1500/7946]\tLoss: 0.1479\n",
      "[7/10][1600/7946]\tLoss: 0.1255\n",
      "[7/10][1700/7946]\tLoss: 0.1028\n",
      "[7/10][1800/7946]\tLoss: 0.1424\n",
      "[7/10][1900/7946]\tLoss: 0.1171\n",
      "[7/10][2000/7946]\tLoss: 0.1256\n",
      "[7/10][2100/7946]\tLoss: 0.1130\n",
      "[7/10][2200/7946]\tLoss: 0.0941\n",
      "[7/10][2300/7946]\tLoss: 0.1321\n",
      "[7/10][2400/7946]\tLoss: 0.1425\n",
      "[7/10][2500/7946]\tLoss: 0.1353\n",
      "[7/10][2600/7946]\tLoss: 0.1517\n",
      "[7/10][2700/7946]\tLoss: 0.1122\n",
      "[7/10][2800/7946]\tLoss: 0.0928\n",
      "[7/10][2900/7946]\tLoss: 0.1402\n",
      "[7/10][3000/7946]\tLoss: 0.1183\n",
      "[7/10][3100/7946]\tLoss: 0.1507\n",
      "[7/10][3200/7946]\tLoss: 0.1242\n",
      "[7/10][3300/7946]\tLoss: 0.1299\n",
      "[7/10][3400/7946]\tLoss: 0.1431\n",
      "[7/10][3500/7946]\tLoss: 0.1321\n",
      "[7/10][3600/7946]\tLoss: 0.1251\n",
      "[7/10][3700/7946]\tLoss: 0.1328\n",
      "[7/10][3800/7946]\tLoss: 0.0930\n",
      "[7/10][3900/7946]\tLoss: 0.1149\n",
      "[7/10][4000/7946]\tLoss: 0.1532\n",
      "[7/10][4100/7946]\tLoss: 0.1242\n",
      "[7/10][4200/7946]\tLoss: 0.1435\n",
      "[7/10][4300/7946]\tLoss: 0.1357\n",
      "[7/10][4400/7946]\tLoss: 0.1389\n",
      "[7/10][4500/7946]\tLoss: 0.1100\n",
      "[7/10][4600/7946]\tLoss: 0.1153\n",
      "[7/10][4700/7946]\tLoss: 0.1319\n",
      "[7/10][4800/7946]\tLoss: 0.1404\n",
      "[7/10][4900/7946]\tLoss: 0.1298\n",
      "[7/10][5000/7946]\tLoss: 0.1244\n",
      "[7/10][5100/7946]\tLoss: 0.1382\n",
      "[7/10][5200/7946]\tLoss: 0.1187\n",
      "[7/10][5300/7946]\tLoss: 0.1215\n",
      "[7/10][5400/7946]\tLoss: 0.1104\n",
      "[7/10][5500/7946]\tLoss: 0.1420\n",
      "[7/10][5600/7946]\tLoss: 0.1151\n",
      "[7/10][5700/7946]\tLoss: 0.1189\n",
      "[7/10][5800/7946]\tLoss: 0.1376\n",
      "[7/10][5900/7946]\tLoss: 0.1045\n",
      "[7/10][6000/7946]\tLoss: 0.1250\n",
      "[7/10][6100/7946]\tLoss: 0.1133\n",
      "[7/10][6200/7946]\tLoss: 0.1110\n",
      "[7/10][6300/7946]\tLoss: 0.1522\n",
      "[7/10][6400/7946]\tLoss: 0.1300\n",
      "[7/10][6500/7946]\tLoss: 0.1247\n",
      "[7/10][6600/7946]\tLoss: 0.1336\n",
      "[7/10][6700/7946]\tLoss: 0.1316\n",
      "[7/10][6800/7946]\tLoss: 0.1129\n",
      "[7/10][6900/7946]\tLoss: 0.1067\n",
      "[7/10][7000/7946]\tLoss: 0.1082\n",
      "[7/10][7100/7946]\tLoss: 0.1159\n",
      "[7/10][7200/7946]\tLoss: 0.1535\n",
      "[7/10][7300/7946]\tLoss: 0.1152\n",
      "[7/10][7400/7946]\tLoss: 0.1143\n",
      "[7/10][7500/7946]\tLoss: 0.1305\n",
      "[7/10][7600/7946]\tLoss: 0.1114\n",
      "[7/10][7700/7946]\tLoss: 0.1370\n",
      "[7/10][7800/7946]\tLoss: 0.1513\n",
      "[7/10][7900/7946]\tLoss: 0.1474\n",
      "[8/10][0/7946]\tLoss: 0.1248\n",
      "[8/10][100/7946]\tLoss: 0.0912\n",
      "[8/10][200/7946]\tLoss: 0.1042\n",
      "[8/10][300/7946]\tLoss: 0.1052\n",
      "[8/10][400/7946]\tLoss: 0.1315\n",
      "[8/10][500/7946]\tLoss: 0.1347\n",
      "[8/10][600/7946]\tLoss: 0.1251\n",
      "[8/10][700/7946]\tLoss: 0.1185\n",
      "[8/10][800/7946]\tLoss: 0.1367\n",
      "[8/10][900/7946]\tLoss: 0.1074\n",
      "[8/10][1000/7946]\tLoss: 0.1126\n",
      "[8/10][1100/7946]\tLoss: 0.1052\n",
      "[8/10][1200/7946]\tLoss: 0.1032\n",
      "[8/10][1300/7946]\tLoss: 0.1185\n",
      "[8/10][1400/7946]\tLoss: 0.1028\n",
      "[8/10][1500/7946]\tLoss: 0.1096\n",
      "[8/10][1600/7946]\tLoss: 0.1288\n",
      "[8/10][1700/7946]\tLoss: 0.1223\n",
      "[8/10][1800/7946]\tLoss: 0.0997\n",
      "[8/10][1900/7946]\tLoss: 0.1185\n",
      "[8/10][2000/7946]\tLoss: 0.1090\n",
      "[8/10][2100/7946]\tLoss: 0.1139\n",
      "[8/10][2200/7946]\tLoss: 0.1371\n",
      "[8/10][2300/7946]\tLoss: 0.1452\n",
      "[8/10][2400/7946]\tLoss: 0.1218\n",
      "[8/10][2500/7946]\tLoss: 0.1091\n",
      "[8/10][2600/7946]\tLoss: 0.1282\n",
      "[8/10][2700/7946]\tLoss: 0.1281\n",
      "[8/10][2800/7946]\tLoss: 0.1354\n",
      "[8/10][2900/7946]\tLoss: 0.1244\n",
      "[8/10][3000/7946]\tLoss: 0.1189\n",
      "[8/10][3100/7946]\tLoss: 0.1141\n",
      "[8/10][3200/7946]\tLoss: 0.1175\n",
      "[8/10][3300/7946]\tLoss: 0.1117\n",
      "[8/10][3400/7946]\tLoss: 0.1207\n",
      "[8/10][3500/7946]\tLoss: 0.1180\n",
      "[8/10][3600/7946]\tLoss: 0.1251\n",
      "[8/10][3700/7946]\tLoss: 0.1163\n",
      "[8/10][3800/7946]\tLoss: 0.1179\n",
      "[8/10][3900/7946]\tLoss: 0.1196\n",
      "[8/10][4000/7946]\tLoss: 0.1199\n",
      "[8/10][4100/7946]\tLoss: 0.1216\n",
      "[8/10][4200/7946]\tLoss: 0.1162\n",
      "[8/10][4300/7946]\tLoss: 0.1071\n",
      "[8/10][4400/7946]\tLoss: 0.1449\n",
      "[8/10][4500/7946]\tLoss: 0.1277\n",
      "[8/10][4600/7946]\tLoss: 0.1208\n",
      "[8/10][4700/7946]\tLoss: 0.1451\n",
      "[8/10][4800/7946]\tLoss: 0.1119\n",
      "[8/10][4900/7946]\tLoss: 0.1336\n",
      "[8/10][5000/7946]\tLoss: 0.1197\n",
      "[8/10][5100/7946]\tLoss: 0.1171\n",
      "[8/10][5200/7946]\tLoss: 0.1206\n",
      "[8/10][5300/7946]\tLoss: 0.1423\n",
      "[8/10][5400/7946]\tLoss: 0.1391\n",
      "[8/10][5500/7946]\tLoss: 0.1271\n",
      "[8/10][5600/7946]\tLoss: 0.1265\n",
      "[8/10][5700/7946]\tLoss: 0.1332\n",
      "[8/10][5800/7946]\tLoss: 0.1307\n",
      "[8/10][5900/7946]\tLoss: 0.1217\n",
      "[8/10][6000/7946]\tLoss: 0.1169\n",
      "[8/10][6100/7946]\tLoss: 0.1117\n",
      "[8/10][6200/7946]\tLoss: 0.1213\n",
      "[8/10][6300/7946]\tLoss: 0.1155\n",
      "[8/10][6400/7946]\tLoss: 0.1240\n",
      "[8/10][6500/7946]\tLoss: 0.1544\n",
      "[8/10][6600/7946]\tLoss: 0.1422\n",
      "[8/10][6700/7946]\tLoss: 0.1426\n",
      "[8/10][6800/7946]\tLoss: 0.1128\n",
      "[8/10][6900/7946]\tLoss: 0.1128\n",
      "[8/10][7000/7946]\tLoss: 0.1247\n",
      "[8/10][7100/7946]\tLoss: 0.1288\n",
      "[8/10][7200/7946]\tLoss: 0.1449\n",
      "[8/10][7300/7946]\tLoss: 0.1192\n",
      "[8/10][7400/7946]\tLoss: 0.1271\n",
      "[8/10][7500/7946]\tLoss: 0.1097\n",
      "[8/10][7600/7946]\tLoss: 0.1044\n",
      "[8/10][7700/7946]\tLoss: 0.1432\n",
      "[8/10][7800/7946]\tLoss: 0.1048\n",
      "[8/10][7900/7946]\tLoss: 0.1181\n",
      "[9/10][0/7946]\tLoss: 0.1111\n",
      "[9/10][100/7946]\tLoss: 0.0870\n",
      "[9/10][200/7946]\tLoss: 0.1404\n",
      "[9/10][300/7946]\tLoss: 0.1179\n",
      "[9/10][400/7946]\tLoss: 0.0855\n",
      "[9/10][500/7946]\tLoss: 0.1150\n",
      "[9/10][600/7946]\tLoss: 0.1057\n",
      "[9/10][700/7946]\tLoss: 0.1038\n",
      "[9/10][800/7946]\tLoss: 0.1412\n",
      "[9/10][900/7946]\tLoss: 0.1357\n",
      "[9/10][1000/7946]\tLoss: 0.1312\n",
      "[9/10][1100/7946]\tLoss: 0.1311\n",
      "[9/10][1200/7946]\tLoss: 0.1300\n",
      "[9/10][1300/7946]\tLoss: 0.1124\n",
      "[9/10][1400/7946]\tLoss: 0.1174\n",
      "[9/10][1500/7946]\tLoss: 0.1330\n",
      "[9/10][1600/7946]\tLoss: 0.1055\n",
      "[9/10][1700/7946]\tLoss: 0.0900\n",
      "[9/10][1800/7946]\tLoss: 0.0886\n",
      "[9/10][1900/7946]\tLoss: 0.1351\n",
      "[9/10][2000/7946]\tLoss: 0.1339\n",
      "[9/10][2100/7946]\tLoss: 0.1496\n",
      "[9/10][2200/7946]\tLoss: 0.1360\n",
      "[9/10][2300/7946]\tLoss: 0.1086\n",
      "[9/10][2400/7946]\tLoss: 0.1296\n",
      "[9/10][2500/7946]\tLoss: 0.1181\n",
      "[9/10][2600/7946]\tLoss: 0.1305\n",
      "[9/10][2700/7946]\tLoss: 0.1094\n",
      "[9/10][2800/7946]\tLoss: 0.1268\n",
      "[9/10][2900/7946]\tLoss: 0.1068\n",
      "[9/10][3000/7946]\tLoss: 0.1138\n",
      "[9/10][3100/7946]\tLoss: 0.1204\n",
      "[9/10][3200/7946]\tLoss: 0.1272\n",
      "[9/10][3300/7946]\tLoss: 0.1064\n",
      "[9/10][3400/7946]\tLoss: 0.1137\n",
      "[9/10][3500/7946]\tLoss: 0.1157\n",
      "[9/10][3600/7946]\tLoss: 0.1249\n",
      "[9/10][3700/7946]\tLoss: 0.1293\n",
      "[9/10][3800/7946]\tLoss: 0.1094\n",
      "[9/10][3900/7946]\tLoss: 0.1220\n",
      "[9/10][4000/7946]\tLoss: 0.1275\n",
      "[9/10][4100/7946]\tLoss: 0.1094\n",
      "[9/10][4200/7946]\tLoss: 0.1320\n",
      "[9/10][4300/7946]\tLoss: 0.1194\n",
      "[9/10][4400/7946]\tLoss: 0.0908\n",
      "[9/10][4500/7946]\tLoss: 0.1289\n",
      "[9/10][4600/7946]\tLoss: 0.1027\n",
      "[9/10][4700/7946]\tLoss: 0.1371\n",
      "[9/10][4800/7946]\tLoss: 0.1206\n",
      "[9/10][4900/7946]\tLoss: 0.1375\n",
      "[9/10][5000/7946]\tLoss: 0.1080\n",
      "[9/10][5100/7946]\tLoss: 0.1112\n",
      "[9/10][5200/7946]\tLoss: 0.1235\n",
      "[9/10][5300/7946]\tLoss: 0.1595\n",
      "[9/10][5400/7946]\tLoss: 0.1113\n",
      "[9/10][5500/7946]\tLoss: 0.1153\n",
      "[9/10][5600/7946]\tLoss: 0.1070\n",
      "[9/10][5700/7946]\tLoss: 0.1202\n",
      "[9/10][5800/7946]\tLoss: 0.1385\n",
      "[9/10][5900/7946]\tLoss: 0.1071\n",
      "[9/10][6000/7946]\tLoss: 0.1311\n",
      "[9/10][6100/7946]\tLoss: 0.0964\n",
      "[9/10][6200/7946]\tLoss: 0.1148\n",
      "[9/10][6300/7946]\tLoss: 0.0977\n",
      "[9/10][6400/7946]\tLoss: 0.1116\n",
      "[9/10][6500/7946]\tLoss: 0.1311\n",
      "[9/10][6600/7946]\tLoss: 0.1168\n",
      "[9/10][6700/7946]\tLoss: 0.1207\n",
      "[9/10][6800/7946]\tLoss: 0.1109\n",
      "[9/10][6900/7946]\tLoss: 0.1283\n",
      "[9/10][7000/7946]\tLoss: 0.1113\n",
      "[9/10][7100/7946]\tLoss: 0.1148\n",
      "[9/10][7200/7946]\tLoss: 0.1009\n",
      "[9/10][7300/7946]\tLoss: 0.1033\n",
      "[9/10][7400/7946]\tLoss: 0.1307\n",
      "[9/10][7500/7946]\tLoss: 0.1211\n",
      "[9/10][7600/7946]\tLoss: 0.1442\n",
      "[9/10][7700/7946]\tLoss: 0.0962\n",
      "[9/10][7800/7946]\tLoss: 0.1446\n",
      "[9/10][7900/7946]\tLoss: 0.1346\n"
     ]
    }
   ],
   "source": [
    "losses = []\n",
    "for epoch in range(epochs):\n",
    "    loss_epoch = []\n",
    "    for i, data in enumerate(dataloader, 0):\n",
    "        data = data.to(device)\n",
    "        optimizer.zero_grad()\n",
    "        out = G(encoder(data), step=step)\n",
    "        label = torch.full((data.size(0),), 1.0, dtype=torch.float, device=device)\n",
    "        loss = criterion(out, data)+0.01*ce(D(out).view(-1), label)+0.002*criterion(model(out), model(data))\n",
    "        losses.append(loss.item())\n",
    "        loss.backward()\n",
    "        optimizer.step()\n",
    "        if i%100 ==0:\n",
    "            print('[%d/%d][%d/%d]\\tLoss: %.4f'\n",
    "                  % (epoch, epochs, i, len(dataloader), loss.item()))"
   ]
  },
  {
   "cell_type": "code",
   "execution_count": 13,
   "id": "4ad884e5",
   "metadata": {
    "execution": {
     "iopub.execute_input": "2022-10-12T16:30:47.919474Z",
     "iopub.status.busy": "2022-10-12T16:30:47.917512Z",
     "iopub.status.idle": "2022-10-12T16:30:48.199196Z",
     "shell.execute_reply": "2022-10-12T16:30:48.198221Z"
    },
    "papermill": {
     "duration": 0.3372,
     "end_time": "2022-10-12T16:30:48.201461",
     "exception": false,
     "start_time": "2022-10-12T16:30:47.864261",
     "status": "completed"
    },
    "tags": []
   },
   "outputs": [
    {
     "data": {
      "text/plain": [
       "[<matplotlib.lines.Line2D at 0x7f6742560b90>]"
      ]
     },
     "execution_count": 13,
     "metadata": {},
     "output_type": "execute_result"
    },
    {
     "data": {
      "image/png": "[encoded data removed]",
      "text/plain": [
       "<Figure size 432x288 with 1 Axes>"
      ]
     },
     "metadata": {
      "needs_background": "light"
     },
     "output_type": "display_data"
    }
   ],
   "source": [
    "import matplotlib.pyplot as plt\n",
    "plt.plot(losses)"
   ]
  },
  {
   "cell_type": "code",
   "execution_count": 14,
   "id": "d38cec5d",
   "metadata": {
    "execution": {
     "iopub.execute_input": "2022-10-12T16:30:48.295629Z",
     "iopub.status.busy": "2022-10-12T16:30:48.295274Z",
     "iopub.status.idle": "2022-10-12T16:30:48.317150Z",
     "shell.execute_reply": "2022-10-12T16:30:48.316158Z"
    },
    "papermill": {
     "duration": 0.070686,
     "end_time": "2022-10-12T16:30:48.319213",
     "exception": false,
     "start_time": "2022-10-12T16:30:48.248527",
     "status": "completed"
    },
    "tags": []
   },
   "outputs": [],
   "source": [
    "images = next(iter(dataloader)).to(device)"
   ]
  },
  {
   "cell_type": "code",
   "execution_count": 15,
   "id": "81cf9747",
   "metadata": {
    "execution": {
     "iopub.execute_input": "2022-10-12T16:30:48.413083Z",
     "iopub.status.busy": "2022-10-12T16:30:48.412157Z",
     "iopub.status.idle": "2022-10-12T16:30:48.423335Z",
     "shell.execute_reply": "2022-10-12T16:30:48.422464Z"
    },
    "papermill": {
     "duration": 0.059893,
     "end_time": "2022-10-12T16:30:48.425429",
     "exception": false,
     "start_time": "2022-10-12T16:30:48.365536",
     "status": "completed"
    },
    "tags": []
   },
   "outputs": [],
   "source": [
    "with torch.no_grad():\n",
    "    z = encoder(images)\n",
    "z = (z-z.min())/(z.max()-z.min())\n",
    "z.requires_grad_(True)\n",
    "z.retain_grad()\n",
    "lr = 1e-2\n",
    "optimizer = torch.optim.Adam([z], lr= lr)\n",
    "\n",
    "criterion = torch.nn.MSELoss(reduction=\"sum\")\n",
    "epochs=1000"
   ]
  },
  {
   "cell_type": "code",
   "execution_count": 16,
   "id": "0c401d7e",
   "metadata": {
    "execution": {
     "iopub.execute_input": "2022-10-12T16:30:48.518404Z",
     "iopub.status.busy": "2022-10-12T16:30:48.518063Z",
     "iopub.status.idle": "2022-10-12T16:31:59.000376Z",
     "shell.execute_reply": "2022-10-12T16:31:58.999390Z"
    },
    "papermill": {
     "duration": 70.531253,
     "end_time": "2022-10-12T16:31:59.002846",
     "exception": false,
     "start_time": "2022-10-12T16:30:48.471593",
     "status": "completed"
    },
    "tags": []
   },
   "outputs": [
    {
     "name": "stdout",
     "output_type": "stream",
     "text": [
      "iter 0000: y_error = 38192.8\n",
      "iter 0020: y_error = 17337.7\n",
      "iter 0040: y_error = 15361.7\n",
      "iter 0060: y_error = 14139.9\n",
      "iter 0080: y_error = 13055\n",
      "iter 0100: y_error = 12542.9\n",
      "iter 0120: y_error = 12228.7\n",
      "iter 0140: y_error = 11939.1\n",
      "iter 0160: y_error = 11652.9\n",
      "iter 0180: y_error = 11458.1\n",
      "iter 0200: y_error = 11222.5\n",
      "iter 0220: y_error = 11011.4\n",
      "iter 0240: y_error = 10871.8\n",
      "iter 0260: y_error = 10737.6\n",
      "iter 0280: y_error = 10578.7\n",
      "iter 0300: y_error = 10390\n",
      "iter 0320: y_error = 10269.2\n",
      "iter 0340: y_error = 10134.5\n",
      "iter 0360: y_error = 9990.17\n",
      "iter 0380: y_error = 9808.47\n",
      "iter 0400: y_error = 9702.53\n",
      "iter 0420: y_error = 9539.41\n",
      "iter 0440: y_error = 9389.34\n",
      "iter 0460: y_error = 9216.22\n",
      "iter 0480: y_error = 9048.86\n",
      "iter 0500: y_error = 8898.92\n",
      "iter 0520: y_error = 8743.9\n",
      "iter 0540: y_error = 8589.53\n",
      "iter 0560: y_error = 8446.92\n",
      "iter 0580: y_error = 8331.45\n",
      "iter 0600: y_error = 8201.84\n",
      "iter 0620: y_error = 8077.71\n",
      "iter 0640: y_error = 7974.81\n",
      "iter 0660: y_error = 7867.71\n",
      "iter 0680: y_error = 7812.5\n",
      "iter 0700: y_error = 7721.1\n",
      "iter 0720: y_error = 7681.91\n",
      "iter 0740: y_error = 7632.33\n",
      "iter 0760: y_error = 7563.06\n",
      "iter 0780: y_error = 7512.76\n",
      "iter 0800: y_error = 7449.66\n",
      "iter 0820: y_error = 7427.14\n",
      "iter 0840: y_error = 7397.45\n",
      "iter 0860: y_error = 7357.67\n",
      "iter 0880: y_error = 7273.34\n",
      "iter 0900: y_error = 7230.79\n",
      "iter 0920: y_error = 7194.66\n",
      "iter 0940: y_error = 7155.45\n",
      "iter 0960: y_error = 7131.49\n",
      "iter 0980: y_error = 7054.98\n"
     ]
    }
   ],
   "source": [
    "losses = []\n",
    "for i in range(epochs):\n",
    "    optimizer.zero_grad()\n",
    "    out = G(z, step=step)\n",
    "    loss = criterion(out, images)+0.002*criterion(model(out), model(images))#+1e-5*criterion(z, encoder(G(z, step=step)))\n",
    "    losses.append(loss.item())\n",
    "    loss.backward()\n",
    "    optimizer.step()\n",
    "    if i % 20 == 0:\n",
    "        print(\"iter {:04d}: y_error = {:03g}\".format(i,\n",
    "            loss.item()))"
   ]
  },
  {
   "cell_type": "code",
   "execution_count": 17,
   "id": "f3808848",
   "metadata": {
    "execution": {
     "iopub.execute_input": "2022-10-12T16:31:59.102180Z",
     "iopub.status.busy": "2022-10-12T16:31:59.101494Z",
     "iopub.status.idle": "2022-10-12T16:31:59.291267Z",
     "shell.execute_reply": "2022-10-12T16:31:59.290361Z"
    },
    "papermill": {
     "duration": 0.242032,
     "end_time": "2022-10-12T16:31:59.293583",
     "exception": false,
     "start_time": "2022-10-12T16:31:59.051551",
     "status": "completed"
    },
    "tags": []
   },
   "outputs": [
    {
     "data": {
      "text/plain": [
       "[<matplotlib.lines.Line2D at 0x7f6740172050>]"
      ]
     },
     "execution_count": 17,
     "metadata": {},
     "output_type": "execute_result"
    },
    {
     "data": {
      "image/png": "[encoded data removed]",
      "text/plain": [
       "<Figure size 432x288 with 1 Axes>"
      ]
     },
     "metadata": {
      "needs_background": "light"
     },
     "output_type": "display_data"
    }
   ],
   "source": [
    "plt.plot(range(len(losses)), losses)"
   ]
  },
  {
   "cell_type": "code",
   "execution_count": 18,
   "id": "94cd4a15",
   "metadata": {
    "execution": {
     "iopub.execute_input": "2022-10-12T16:31:59.393254Z",
     "iopub.status.busy": "2022-10-12T16:31:59.392906Z",
     "iopub.status.idle": "2022-10-12T16:31:59.594591Z",
     "shell.execute_reply": "2022-10-12T16:31:59.593673Z"
    },
    "papermill": {
     "duration": 0.253467,
     "end_time": "2022-10-12T16:31:59.596564",
     "exception": false,
     "start_time": "2022-10-12T16:31:59.343097",
     "status": "completed"
    },
    "tags": []
   },
   "outputs": [
    {
     "data": {
      "text/plain": [
       "<matplotlib.image.AxesImage at 0x7f6740164290>"
      ]
     },
     "execution_count": 18,
     "metadata": {},
     "output_type": "execute_result"
    },
    {
     "data": {
      "image/png": "[encoded data removed]",
      "text/plain": [
       "<Figure size 432x288 with 1 Axes>"
      ]
     },
     "metadata": {
      "needs_background": "light"
     },
     "output_type": "display_data"
    }
   ],
   "source": [
    "plt.imshow(out[0].detach().cpu().permute([1,2,0]).numpy())"
   ]
  },
  {
   "cell_type": "code",
   "execution_count": 19,
   "id": "667aac4f",
   "metadata": {
    "execution": {
     "iopub.execute_input": "2022-10-12T16:31:59.698080Z",
     "iopub.status.busy": "2022-10-12T16:31:59.697699Z",
     "iopub.status.idle": "2022-10-12T16:31:59.900627Z",
     "shell.execute_reply": "2022-10-12T16:31:59.899660Z"
    },
    "papermill": {
     "duration": 0.255587,
     "end_time": "2022-10-12T16:31:59.902915",
     "exception": false,
     "start_time": "2022-10-12T16:31:59.647328",
     "status": "completed"
    },
    "tags": []
   },
   "outputs": [
    {
     "data": {
      "text/plain": [
       "<matplotlib.image.AxesImage at 0x7f6740287a90>"
      ]
     },
     "execution_count": 19,
     "metadata": {},
     "output_type": "execute_result"
    },
    {
     "data": {
      "image/png": "[encoded data removed]",
      "text/plain": [
       "<Figure size 432x288 with 1 Axes>"
      ]
     },
     "metadata": {
      "needs_background": "light"
     },
     "output_type": "display_data"
    }
   ],
   "source": [
    "plt.imshow(images[0].cpu().permute([1,2,0]).numpy())"
   ]
  },
  {
   "cell_type": "code",
   "execution_count": 20,
   "id": "a0e48eb8",
   "metadata": {
    "execution": {
     "iopub.execute_input": "2022-10-12T16:32:00.004044Z",
     "iopub.status.busy": "2022-10-12T16:32:00.003056Z",
     "iopub.status.idle": "2022-10-12T16:32:00.209457Z",
     "shell.execute_reply": "2022-10-12T16:32:00.208784Z"
    },
    "papermill": {
     "duration": 0.258653,
     "end_time": "2022-10-12T16:32:00.211411",
     "exception": false,
     "start_time": "2022-10-12T16:31:59.952758",
     "status": "completed"
    },
    "tags": []
   },
   "outputs": [
    {
     "data": {
      "text/plain": [
       "<matplotlib.image.AxesImage at 0x7f6742490310>"
      ]
     },
     "execution_count": 20,
     "metadata": {},
     "output_type": "execute_result"
    },
    {
     "data": {
      "image/png": "[encoded data removed]",
      "text/plain": [
       "<Figure size 432x288 with 1 Axes>"
      ]
     },
     "metadata": {
      "needs_background": "light"
     },
     "output_type": "display_data"
    }
   ],
   "source": [
    "plt.imshow(out[D(out).argmax()].detach().cpu().permute([1,2,0]).numpy())"
   ]
  },
  {
   "cell_type": "code",
   "execution_count": 21,
   "id": "49f07623",
   "metadata": {
    "execution": {
     "iopub.execute_input": "2022-10-12T16:32:00.315501Z",
     "iopub.status.busy": "2022-10-12T16:32:00.314540Z",
     "iopub.status.idle": "2022-10-12T16:32:00.537960Z",
     "shell.execute_reply": "2022-10-12T16:32:00.535951Z"
    },
    "papermill": {
     "duration": 0.278963,
     "end_time": "2022-10-12T16:32:00.542154",
     "exception": false,
     "start_time": "2022-10-12T16:32:00.263191",
     "status": "completed"
    },
    "tags": []
   },
   "outputs": [
    {
     "data": {
      "text/plain": [
       "<matplotlib.image.AxesImage at 0x7f67424d3a10>"
      ]
     },
     "execution_count": 21,
     "metadata": {},
     "output_type": "execute_result"
    },
    {
     "data": {
      "image/png": "[encoded data removed]",
      "text/plain": [
       "<Figure size 432x288 with 1 Axes>"
      ]
     },
     "metadata": {
      "needs_background": "light"
     },
     "output_type": "display_data"
    }
   ],
   "source": [
    "plt.imshow(images[D(out).argmax()].cpu().permute([1,2,0]).numpy())"
   ]
  },
  {
   "cell_type": "code",
   "execution_count": 22,
   "id": "a476f0b6",
   "metadata": {
    "execution": {
     "iopub.execute_input": "2022-10-12T16:32:00.647298Z",
     "iopub.status.busy": "2022-10-12T16:32:00.646455Z",
     "iopub.status.idle": "2022-10-12T16:32:00.848517Z",
     "shell.execute_reply": "2022-10-12T16:32:00.847616Z"
    },
    "papermill": {
     "duration": 0.255322,
     "end_time": "2022-10-12T16:32:00.850637",
     "exception": false,
     "start_time": "2022-10-12T16:32:00.595315",
     "status": "completed"
    },
    "tags": []
   },
   "outputs": [
    {
     "data": {
      "text/plain": [
       "<matplotlib.image.AxesImage at 0x7f67426640d0>"
      ]
     },
     "execution_count": 22,
     "metadata": {},
     "output_type": "execute_result"
    },
    {
     "data": {
      "image/png": "[encoded data removed]",
      "text/plain": [
       "<Figure size 432x288 with 1 Axes>"
      ]
     },
     "metadata": {
      "needs_background": "light"
     },
     "output_type": "display_data"
    }
   ],
   "source": [
    "plt.imshow(out[2].detach().cpu().permute([1,2,0]).numpy())"
   ]
  },
  {
   "cell_type": "code",
   "execution_count": 23,
   "id": "114a670d",
   "metadata": {
    "execution": {
     "iopub.execute_input": "2022-10-12T16:32:00.954951Z",
     "iopub.status.busy": "2022-10-12T16:32:00.954006Z",
     "iopub.status.idle": "2022-10-12T16:32:01.154575Z",
     "shell.execute_reply": "2022-10-12T16:32:01.153630Z"
    },
    "papermill": {
     "duration": 0.25458,
     "end_time": "2022-10-12T16:32:01.156530",
     "exception": false,
     "start_time": "2022-10-12T16:32:00.901950",
     "status": "completed"
    },
    "tags": []
   },
   "outputs": [
    {
     "data": {
      "text/plain": [
       "<matplotlib.image.AxesImage at 0x7f67426e67d0>"
      ]
     },
     "execution_count": 23,
     "metadata": {},
     "output_type": "execute_result"
    },
    {
     "data": {
      "image/png": "[encoded data removed]",
      "text/plain": [
       "<Figure size 432x288 with 1 Axes>"
      ]
     },
     "metadata": {
      "needs_background": "light"
     },
     "output_type": "display_data"
    }
   ],
   "source": [
    "plt.imshow(images[2].cpu().permute([1,2,0]).numpy())"
   ]
  },
  {
   "cell_type": "code",
   "execution_count": 24,
   "id": "dd52ad07",
   "metadata": {
    "execution": {
     "iopub.execute_input": "2022-10-12T16:32:01.262095Z",
     "iopub.status.busy": "2022-10-12T16:32:01.261103Z",
     "iopub.status.idle": "2022-10-12T16:32:01.446602Z",
     "shell.execute_reply": "2022-10-12T16:32:01.445613Z"
    },
    "papermill": {
     "duration": 0.240473,
     "end_time": "2022-10-12T16:32:01.449091",
     "exception": false,
     "start_time": "2022-10-12T16:32:01.208618",
     "status": "completed"
    },
    "tags": []
   },
   "outputs": [],
   "source": [
    "torch.save(encoder, \"Encoder.pth\")"
   ]
  }
 ],
 "metadata": {
  "kernelspec": {
   "display_name": "Python 3",
   "language": "python",
   "name": "python3"
  },
  "language_info": {
   "codemirror_mode": {
    "name": "ipython",
    "version": 3
   },
   "file_extension": ".py",
   "mimetype": "text/x-python",
   "name": "python",
   "nbconvert_exporter": "python",
   "pygments_lexer": "ipython3",
   "version": "3.7.12"
  },
  "papermill": {
   "default_parameters": {},
   "duration": 8050.712983,
   "end_time": "2022-10-12T16:32:03.648203",
   "environment_variables": {},
   "exception": null,
   "input_path": "__notebook__.ipynb",
   "output_path": "__notebook__.ipynb",
   "parameters": {},
   "start_time": "2022-10-12T14:17:52.935220",
   "version": "2.3.4"
  },
  "widgets": {
   "application/vnd.jupyter.widget-state+json": {
    "state": {
     "3a7193f0dd314a86a18b95059b1c96ad": {
      "model_module": "@jupyter-widgets/controls",
      "model_module_version": "1.5.0",
      "model_name": "ProgressStyleModel",
      "state": {
       "_model_module": "@jupyter-widgets/controls",
       "_model_module_version": "1.5.0",
       "_model_name": "ProgressStyleModel",
       "_view_count": null,
       "_view_module": "@jupyter-widgets/base",
       "_view_module_version": "1.2.0",
       "_view_name": "StyleView",
       "bar_color": null,
       "description_width": ""
      }
     },
     "639f1e11e88444edb1abadbd9b1b8d29": {
      "model_module": "@jupyter-widgets/controls",
      "model_module_version": "1.5.0",
      "model_name": "FloatProgressModel",
      "state": {
       "_dom_classes": [],
       "_model_module": "@jupyter-widgets/controls",
       "_model_module_version": "1.5.0",
       "_model_name": "FloatProgressModel",
       "_view_count": null,
       "_view_module": "@jupyter-widgets/controls",
       "_view_module_version": "1.5.0",
       "_view_name": "ProgressView",
       "bar_style": "success",
       "description": "",
       "description_tooltip": null,
       "layout": "IPY_MODEL_fa687c478b5f4a31a43f754c3663561a",
       "max": 553433881.0,
       "min": 0.0,
       "orientation": "horizontal",
       "style": "IPY_MODEL_3a7193f0dd314a86a18b95059b1c96ad",
       "value": 553433881.0
      }
     },
     "6de16c0bd70949b3b870f0fd9d15df92": {
      "model_module": "@jupyter-widgets/base",
      "model_module_version": "1.2.0",
      "model_name": "LayoutModel",
      "state": {
       "_model_module": "@jupyter-widgets/base",
       "_model_module_version": "1.2.0",
       "_model_name": "LayoutModel",
       "_view_count": null,
       "_view_module": "@jupyter-widgets/base",
       "_view_module_version": "1.2.0",
       "_view_name": "LayoutView",
       "align_content": null,
       "align_items": null,
       "align_self": null,
       "border": null,
       "bottom": null,
       "display": null,
       "flex": null,
       "flex_flow": null,
       "grid_area": null,
       "grid_auto_columns": null,
       "grid_auto_flow": null,
       "grid_auto_rows": null,
       "grid_column": null,
       "grid_gap": null,
       "grid_row": null,
       "grid_template_areas": null,
       "grid_template_columns": null,
       "grid_template_rows": null,
       "height": null,
       "justify_content": null,
       "justify_items": null,
       "left": null,
       "margin": null,
       "max_height": null,
       "max_width": null,
       "min_height": null,
       "min_width": null,
       "object_fit": null,
       "object_position": null,
       "order": null,
       "overflow": null,
       "overflow_x": null,
       "overflow_y": null,
       "padding": null,
       "right": null,
       "top": null,
       "visibility": null,
       "width": null
      }
     },
     "900abb05af694f46a96d938ff1064900": {
      "model_module": "@jupyter-widgets/controls",
      "model_module_version": "1.5.0",
      "model_name": "DescriptionStyleModel",
      "state": {
       "_model_module": "@jupyter-widgets/controls",
       "_model_module_version": "1.5.0",
       "_model_name": "DescriptionStyleModel",
       "_view_count": null,
       "_view_module": "@jupyter-widgets/base",
       "_view_module_version": "1.2.0",
       "_view_name": "StyleView",
       "description_width": ""
      }
     },
     "9e2eb958bfec4766bf6f4e44bd430ef9": {
      "model_module": "@jupyter-widgets/controls",
      "model_module_version": "1.5.0",
      "model_name": "DescriptionStyleModel",
      "state": {
       "_model_module": "@jupyter-widgets/controls",
       "_model_module_version": "1.5.0",
       "_model_name": "DescriptionStyleModel",
       "_view_count": null,
       "_view_module": "@jupyter-widgets/base",
       "_view_module_version": "1.2.0",
       "_view_name": "StyleView",
       "description_width": ""
      }
     },
     "bb04ca56b9d34dcab3eca73a20340ef5": {
      "model_module": "@jupyter-widgets/controls",
      "model_module_version": "1.5.0",
      "model_name": "HTMLModel",
      "state": {
       "_dom_classes": [],
       "_model_module": "@jupyter-widgets/controls",
       "_model_module_version": "1.5.0",
       "_model_name": "HTMLModel",
       "_view_count": null,
       "_view_module": "@jupyter-widgets/controls",
       "_view_module_version": "1.5.0",
       "_view_name": "HTMLView",
       "description": "",
       "description_tooltip": null,
       "layout": "IPY_MODEL_e31e97be4e1142898187408f1e1f54a5",
       "placeholder": "​",
       "style": "IPY_MODEL_900abb05af694f46a96d938ff1064900",
       "value": " 528M/528M [00:10&lt;00:00, 34.0MB/s]"
      }
     },
     "cc18db2547b14e1880a4cf5dc249bfdd": {
      "model_module": "@jupyter-widgets/base",
      "model_module_version": "1.2.0",
      "model_name": "LayoutModel",
      "state": {
       "_model_module": "@jupyter-widgets/base",
       "_model_module_version": "1.2.0",
       "_model_name": "LayoutModel",
       "_view_count": null,
       "_view_module": "@jupyter-widgets/base",
       "_view_module_version": "1.2.0",
       "_view_name": "LayoutView",
       "align_content": null,
       "align_items": null,
       "align_self": null,
       "border": null,
       "bottom": null,
       "display": null,
       "flex": null,
       "flex_flow": null,
       "grid_area": null,
       "grid_auto_columns": null,
       "grid_auto_flow": null,
       "grid_auto_rows": null,
       "grid_column": null,
       "grid_gap": null,
       "grid_row": null,
       "grid_template_areas": null,
       "grid_template_columns": null,
       "grid_template_rows": null,
       "height": null,
       "justify_content": null,
       "justify_items": null,
       "left": null,
       "margin": null,
       "max_height": null,
       "max_width": null,
       "min_height": null,
       "min_width": null,
       "object_fit": null,
       "object_position": null,
       "order": null,
       "overflow": null,
       "overflow_x": null,
       "overflow_y": null,
       "padding": null,
       "right": null,
       "top": null,
       "visibility": null,
       "width": null
      }
     },
     "dc6609242a7941fab148c9fd748f9e23": {
      "model_module": "@jupyter-widgets/controls",
      "model_module_version": "1.5.0",
      "model_name": "HBoxModel",
      "state": {
       "_dom_classes": [],
       "_model_module": "@jupyter-widgets/controls",
       "_model_module_version": "1.5.0",
       "_model_name": "HBoxModel",
       "_view_count": null,
       "_view_module": "@jupyter-widgets/controls",
       "_view_module_version": "1.5.0",
       "_view_name": "HBoxView",
       "box_style": "",
       "children": [
        "IPY_MODEL_f3a7fcc6313f4a60b91775c7e68c647f",
        "IPY_MODEL_639f1e11e88444edb1abadbd9b1b8d29",
        "IPY_MODEL_bb04ca56b9d34dcab3eca73a20340ef5"
       ],
       "layout": "IPY_MODEL_6de16c0bd70949b3b870f0fd9d15df92"
      }
     },
     "e31e97be4e1142898187408f1e1f54a5": {
      "model_module": "@jupyter-widgets/base",
      "model_module_version": "1.2.0",
      "model_name": "LayoutModel",
      "state": {
       "_model_module": "@jupyter-widgets/base",
       "_model_module_version": "1.2.0",
       "_model_name": "LayoutModel",
       "_view_count": null,
       "_view_module": "@jupyter-widgets/base",
       "_view_module_version": "1.2.0",
       "_view_name": "LayoutView",
       "align_content": null,
       "align_items": null,
       "align_self": null,
       "border": null,
       "bottom": null,
       "display": null,
       "flex": null,
       "flex_flow": null,
       "grid_area": null,
       "grid_auto_columns": null,
       "grid_auto_flow": null,
       "grid_auto_rows": null,
       "grid_column": null,
       "grid_gap": null,
       "grid_row": null,
       "grid_template_areas": null,
       "grid_template_columns": null,
       "grid_template_rows": null,
       "height": null,
       "justify_content": null,
       "justify_items": null,
       "left": null,
       "margin": null,
       "max_height": null,
       "max_width": null,
       "min_height": null,
       "min_width": null,
       "object_fit": null,
       "object_position": null,
       "order": null,
       "overflow": null,
       "overflow_x": null,
       "overflow_y": null,
       "padding": null,
       "right": null,
       "top": null,
       "visibility": null,
       "width": null
      }
     },
     "f3a7fcc6313f4a60b91775c7e68c647f": {
      "model_module": "@jupyter-widgets/controls",
      "model_module_version": "1.5.0",
      "model_name": "HTMLModel",
      "state": {
       "_dom_classes": [],
       "_model_module": "@jupyter-widgets/controls",
       "_model_module_version": "1.5.0",
       "_model_name": "HTMLModel",
       "_view_count": null,
       "_view_module": "@jupyter-widgets/controls",
       "_view_module_version": "1.5.0",
       "_view_name": "HTMLView",
       "description": "",
       "description_tooltip": null,
       "layout": "IPY_MODEL_cc18db2547b14e1880a4cf5dc249bfdd",
       "placeholder": "​",
       "style": "IPY_MODEL_9e2eb958bfec4766bf6f4e44bd430ef9",
       "value": "100%"
      }
     },
     "fa687c478b5f4a31a43f754c3663561a": {
      "model_module": "@jupyter-widgets/base",
      "model_module_version": "1.2.0",
      "model_name": "LayoutModel",
      "state": {
       "_model_module": "@jupyter-widgets/base",
       "_model_module_version": "1.2.0",
       "_model_name": "LayoutModel",
       "_view_count": null,
       "_view_module": "@jupyter-widgets/base",
       "_view_module_version": "1.2.0",
       "_view_name": "LayoutView",
       "align_content": null,
       "align_items": null,
       "align_self": null,
       "border": null,
       "bottom": null,
       "display": null,
       "flex": null,
       "flex_flow": null,
       "grid_area": null,
       "grid_auto_columns": null,
       "grid_auto_flow": null,
       "grid_auto_rows": null,
       "grid_column": null,
       "grid_gap": null,
       "grid_row": null,
       "grid_template_areas": null,
       "grid_template_columns": null,
       "grid_template_rows": null,
       "height": null,
       "justify_content": null,
       "justify_items": null,
       "left": null,
       "margin": null,
       "max_height": null,
       "max_width": null,
       "min_height": null,
       "min_width": null,
       "object_fit": null,
       "object_position": null,
       "order": null,
       "overflow": null,
       "overflow_x": null,
       "overflow_y": null,
       "padding": null,
       "right": null,
       "top": null,
       "visibility": null,
       "width": null
      }
     }
    },
    "version_major": 2,
    "version_minor": 0
   }
  }
 },
 "nbformat": 4,
 "nbformat_minor": 5
}
